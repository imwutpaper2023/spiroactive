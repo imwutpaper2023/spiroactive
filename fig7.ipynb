{
  "nbformat": 4,
  "nbformat_minor": 0,
  "metadata": {
    "colab": {
      "provenance": []
    },
    "kernelspec": {
      "name": "python3",
      "display_name": "Python 3"
    },
    "language_info": {
      "name": "python"
    }
  },
  "cells": [
    {
      "cell_type": "code",
      "source": [
        "!pip -qq install modAL\n",
        "!pip install --upgrade -qq xgboost"
      ],
      "metadata": {
        "id": "0AmOEMmlZe5I",
        "colab": {
          "base_uri": "https://localhost:8080/"
        },
        "outputId": "6e9f465b-3745-4fcf-ab02-37b2d29e267a"
      },
      "execution_count": 12,
      "outputs": [
        {
          "output_type": "stream",
          "name": "stdout",
          "text": [
            "\u001b[2K     \u001b[90m━━━━━━━━━━━━━━━━━━━━━━━━━━━━━━━━━━━━━━━\u001b[0m \u001b[32m193.6/193.6 MB\u001b[0m \u001b[31m4.9 MB/s\u001b[0m eta \u001b[36m0:00:00\u001b[0m\n",
            "\u001b[?25h"
          ]
        }
      ]
    },
    {
      "cell_type": "code",
      "execution_count": 13,
      "metadata": {
        "id": "QZoxFOOq_huD"
      },
      "outputs": [],
      "source": [
        "import numpy as np\n",
        "import pandas as pd\n",
        "from sklearn.model_selection import LeaveOneOut\n",
        "import modAL \n",
        "from modAL.models import ActiveLearner, CommitteeRegressor\n",
        "from sklearn.ensemble import RandomForestRegressor, GradientBoostingRegressor\n",
        "import xgboost as xgb\n",
        "import matplotlib.pyplot as plt\n",
        "import seaborn as sns \n",
        "from sklearn.tree import DecisionTreeRegressor\n",
        "import random"
      ]
    },
    {
      "cell_type": "code",
      "source": [
        "random.seed(42)\n",
        "np.random.seed(42)"
      ],
      "metadata": {
        "id": "iXpweW96Z0MU"
      },
      "execution_count": 14,
      "outputs": []
    },
    {
      "cell_type": "code",
      "source": [
        "def dataloader(data_category):\n",
        "  x = np.load(f\"/content/{data_category}_FEATURES_60.npy\")\n",
        "  y = np.load(f\"/content/{data_category}_LABELS_60.npy\")\n",
        "  x = np.delete(x,[23,55,4,9,52,44,45,33,43,20,1,50], axis=0)\n",
        "  y = np.delete(y,[23,55,4,9,52,44,45,33,43,20,1,50], axis=0)\n",
        "  return x,y"
      ],
      "metadata": {
        "id": "dgOmfpPhjb-F"
      },
      "execution_count": 15,
      "outputs": []
    },
    {
      "cell_type": "code",
      "source": [
        "X_FVC,y_FVC = dataloader(\"FVC\")\n",
        "X_FEV1,y_FEV1 = dataloader(\"FEV1\")\n",
        "X_PEF,y_PEF = dataloader(\"PEF\")"
      ],
      "metadata": {
        "id": "rXKpvKen_3uO"
      },
      "execution_count": 16,
      "outputs": []
    },
    {
      "cell_type": "markdown",
      "source": [
        "##**Single Task Single Output**"
      ],
      "metadata": {
        "id": "3WdRGB-b4oey"
      }
    },
    {
      "cell_type": "code",
      "source": [
        "def loocv(model, X, y):\n",
        "  results = []\n",
        "  loo = LeaveOneOut()\n",
        "  for train_index, test_index in loo.split(X):\n",
        "    X_train, X_test = X[train_index], X[test_index]\n",
        "    y_train, y_test = y[train_index], y[test_index]\n",
        "    model.fit(X_train, y_train)\n",
        "    y_pred = model.predict(X_test)\n",
        "    mape = np.abs((y_test - y_pred) / y_test) * 100\n",
        "    results.append(mape)\n",
        "  mape_results = np.mean(results) \n",
        "  return mape_results"
      ],
      "metadata": {
        "id": "D2h2lL1mAYNq"
      },
      "execution_count": 17,
      "outputs": []
    },
    {
      "cell_type": "code",
      "source": [
        "def loocv_committee_fvc(X, y):\n",
        "  results = []\n",
        "  loo = LeaveOneOut()\n",
        "  for train_index, test_index in loo.split(X):\n",
        "    X_train, X_test = X[train_index], X[test_index]\n",
        "    y_train, y_test = y[train_index], y[test_index]\n",
        "\n",
        "    learners = [ActiveLearner(GradientBoostingRegressor(loss='absolute_error',random_state=42),X_training=X_train, y_training=y_train),\n",
        "                ActiveLearner(GradientBoostingRegressor(loss='absolute_error',random_state=1008),X_training=X_train, y_training=y_train),\n",
        "                ActiveLearner(estimator=RandomForestRegressor(random_state=42),X_training=X_train, y_training=y_train)\n",
        "              ]\n",
        "    committee = CommitteeRegressor(learner_list=learners)\n",
        "    pred, std = committee.predict(X_test, return_std=True)\n",
        "    mape = np.abs((y_test - pred) / y_test) * 100\n",
        "    results.append(mape)\n",
        "  mape_results = np.mean(results)\n",
        "  return mape_results"
      ],
      "metadata": {
        "id": "2EEPDmd8Zrpb"
      },
      "execution_count": 18,
      "outputs": []
    },
    {
      "cell_type": "code",
      "source": [
        "def loocv_committee_fev(X, y):\n",
        "  results = []\n",
        "  loo = LeaveOneOut()\n",
        "  for train_index, test_index in loo.split(X):\n",
        "    X_train, X_test = X[train_index], X[test_index]\n",
        "    y_train, y_test = y[train_index], y[test_index]\n",
        "\n",
        "    learners = [ActiveLearner(GradientBoostingRegressor(loss='absolute_error',random_state=42),X_training=X_train, y_training=y_train),\n",
        "                ActiveLearner(GradientBoostingRegressor(loss='absolute_error',random_state=1008),X_training=X_train, y_training=y_train),\n",
        "                ActiveLearner(RandomForestRegressor(random_state=42),X_training=X_train, y_training=y_train),\n",
        "                ActiveLearner(xgb.XGBRegressor(random_state=42,objective ='reg:squarederror'),X_training=X_train, y_training=y_train)\n",
        "              ]\n",
        "    committee = CommitteeRegressor(learner_list=learners)\n",
        "    pred, std = committee.predict(X_test, return_std=True)\n",
        "    mape = np.abs((y_test - pred) / y_test) * 100\n",
        "    results.append(mape)\n",
        "  mape_results = np.mean(results)\n",
        "  return mape_results"
      ],
      "metadata": {
        "id": "kWo2GtiUp5zk"
      },
      "execution_count": 19,
      "outputs": []
    },
    {
      "cell_type": "code",
      "source": [
        "def loocv_committee_pef(X, y):\n",
        "  results = []\n",
        "  loo = LeaveOneOut()\n",
        "  for train_index, test_index in loo.split(X):\n",
        "    X_train, X_test = X[train_index], X[test_index]\n",
        "    y_train, y_test = y[train_index], y[test_index]\n",
        "\n",
        "    learners = [ActiveLearner(xgb.XGBRegressor(random_state=42,objective ='reg:squarederror'),X_training=X_train, y_training=y_train),\n",
        "                ActiveLearner(DecisionTreeRegressor(random_state = 42),X_training=X_train, y_training=y_train),\n",
        "                ActiveLearner(RandomForestRegressor(random_state=42),X_training=X_train, y_training=y_train)\n",
        "              ]\n",
        "    committee = CommitteeRegressor(learner_list=learners)\n",
        "    pred, std = committee.predict(X_test, return_std=True)\n",
        "    mape = np.abs((y_test - pred) / y_test) * 100\n",
        "    results.append(mape)\n",
        "  mape_results = np.mean(results)\n",
        "  return mape_results"
      ],
      "metadata": {
        "id": "XF__oY1SpAbJ"
      },
      "execution_count": 20,
      "outputs": []
    },
    {
      "cell_type": "code",
      "source": [
        "model = RandomForestRegressor(random_state=42)\n",
        "rf_fvc = loocv(model,X_FVC,y_FVC)\n",
        "rf_pef = loocv(model,X_PEF,y_PEF)\n",
        "rf_fev = loocv(model,X_FEV1,y_FEV1)\n",
        "\n",
        "rf_stso = [rf_fev,rf_fvc,rf_pef]"
      ],
      "metadata": {
        "id": "H9Q7yxzoD7Lf"
      },
      "execution_count": 21,
      "outputs": []
    },
    {
      "cell_type": "code",
      "source": [
        "rf_stso"
      ],
      "metadata": {
        "colab": {
          "base_uri": "https://localhost:8080/"
        },
        "id": "RZlagljo3ziB",
        "outputId": "c6accef5-420e-436c-ee12-f79501df188c"
      },
      "execution_count": 22,
      "outputs": [
        {
          "output_type": "execute_result",
          "data": {
            "text/plain": [
              "[6.159878474518751, 5.485491500357955, 6.965109058127212]"
            ]
          },
          "metadata": {},
          "execution_count": 22
        }
      ]
    },
    {
      "cell_type": "code",
      "source": [
        "committee_fvc = loocv_committee_fvc(X_FVC,y_FVC)\n",
        "committee_pef = loocv_committee_pef(X_PEF,y_PEF)\n",
        "committee_fev = loocv_committee_fev(X_FEV1,y_FEV1)\n",
        "\n",
        "committee_stso = [committee_fev, committee_fvc, committee_pef]"
      ],
      "metadata": {
        "id": "0JxfX2NGZWAS"
      },
      "execution_count": 23,
      "outputs": []
    },
    {
      "cell_type": "code",
      "source": [
        "committee_stso"
      ],
      "metadata": {
        "colab": {
          "base_uri": "https://localhost:8080/"
        },
        "id": "wIGjjz24at-f",
        "outputId": "ee9ae1fa-58b6-4420-be29-468875ece829"
      },
      "execution_count": 24,
      "outputs": [
        {
          "output_type": "execute_result",
          "data": {
            "text/plain": [
              "[5.802979334056263, 4.902589676908126, 6.047798224617073]"
            ]
          },
          "metadata": {},
          "execution_count": 24
        }
      ]
    },
    {
      "cell_type": "markdown",
      "source": [
        "##**Multi Task Single Output**"
      ],
      "metadata": {
        "id": "45lhTVRG5gfO"
      }
    },
    {
      "cell_type": "code",
      "source": [
        "random.seed(42)\n",
        "np.random.seed(42)"
      ],
      "metadata": {
        "id": "3pAiLfVu-fxa"
      },
      "execution_count": 25,
      "outputs": []
    },
    {
      "cell_type": "code",
      "source": [
        "X = concatenated_dataset = np.concatenate((X_FVC, X_FEV1, X_PEF), axis=1)"
      ],
      "metadata": {
        "id": "kiTo3kbKevdt"
      },
      "execution_count": 26,
      "outputs": []
    },
    {
      "cell_type": "code",
      "source": [
        "X_FVC.shape,X_PEF.shape,X_FEV1.shape,X.shape"
      ],
      "metadata": {
        "colab": {
          "base_uri": "https://localhost:8080/"
        },
        "id": "DR8uvK2Qff_r",
        "outputId": "f8000edb-78f1-4cfd-8c8e-b48e8b3e879d"
      },
      "execution_count": 27,
      "outputs": [
        {
          "output_type": "execute_result",
          "data": {
            "text/plain": [
              "((48, 155), (48, 166), (48, 166), (48, 487))"
            ]
          },
          "metadata": {},
          "execution_count": 27
        }
      ]
    },
    {
      "cell_type": "code",
      "source": [
        "def loocv_mtso(model, X, y):\n",
        "  results = []\n",
        "  loo = LeaveOneOut()\n",
        "  for train_index, test_index in loo.split(X):\n",
        "    X_train, X_test = X[train_index], X[test_index]\n",
        "    y_train, y_test = y[train_index], y[test_index]\n",
        "    model.fit(X_train, y_train)\n",
        "    y_pred = model.predict(X_test)\n",
        "    mape = np.abs((y_test - y_pred) / y_test) * 100\n",
        "    results.append(mape)\n",
        "  mape_results = np.mean(results) \n",
        "  return mape_results"
      ],
      "metadata": {
        "id": "YK3FIe3N4gAX"
      },
      "execution_count": 28,
      "outputs": []
    },
    {
      "cell_type": "code",
      "source": [
        "def loocv_committee_mtso(X, y):\n",
        "  results = []\n",
        "  loo = LeaveOneOut()\n",
        "  for train_index, test_index in loo.split(X):\n",
        "    X_train, X_test = X[train_index], X[test_index]\n",
        "    y_train, y_test = y[train_index], y[test_index]\n",
        "\n",
        "    learners = [ActiveLearner(GradientBoostingRegressor(loss='absolute_error',random_state=42),X_training=X_train, y_training=y_train),\n",
        "                ActiveLearner(GradientBoostingRegressor(loss='absolute_error',random_state=1008),X_training=X_train, y_training=y_train),\n",
        "                ActiveLearner(RandomForestRegressor(random_state=42),X_training=X_train, y_training=y_train),\n",
        "                ActiveLearner(xgb.XGBRegressor(random_state=42,objective ='reg:squarederror'),X_training=X_train, y_training=y_train)\n",
        "              ]\n",
        "    committee = CommitteeRegressor(learner_list=learners)\n",
        "    pred, std = committee.predict(X_test, return_std=True)\n",
        "    mape = np.abs((y_test - pred) / y_test) * 100\n",
        "    results.append(mape)\n",
        "  mape_results = np.mean(results)\n",
        "  return mape_results"
      ],
      "metadata": {
        "id": "RD-58Mx34gAX"
      },
      "execution_count": 29,
      "outputs": []
    },
    {
      "cell_type": "code",
      "source": [
        "model = RandomForestRegressor(random_state=42)\n",
        "rf_fvc = loocv_mtso(model,X,y_FVC)\n",
        "rf_pef = loocv_mtso(model,X,y_PEF)\n",
        "rf_fev = loocv_mtso(model,X,y_FEV1)"
      ],
      "metadata": {
        "id": "-kjsgigADmfi"
      },
      "execution_count": 30,
      "outputs": []
    },
    {
      "cell_type": "code",
      "source": [
        "rf_mtso = [rf_fev,rf_fvc,rf_pef]\n",
        "rf_mtso"
      ],
      "metadata": {
        "colab": {
          "base_uri": "https://localhost:8080/"
        },
        "outputId": "c7969d74-fb19-4658-c047-05647c42922f",
        "id": "E-fzpWXq4gAX"
      },
      "execution_count": 31,
      "outputs": [
        {
          "output_type": "execute_result",
          "data": {
            "text/plain": [
              "[6.641021831866887, 5.861119816428761, 7.53343477622973]"
            ]
          },
          "metadata": {},
          "execution_count": 31
        }
      ]
    },
    {
      "cell_type": "code",
      "source": [
        "committee_fvc = loocv_committee_mtso(X,y_FVC)\n",
        "committee_pef = loocv_committee_mtso(X,y_PEF)\n",
        "committee_fev = loocv_committee_mtso(X,y_FEV1)"
      ],
      "metadata": {
        "id": "sXA9_GpO4gAY"
      },
      "execution_count": 32,
      "outputs": []
    },
    {
      "cell_type": "code",
      "source": [
        "committee_mtso = [committee_fev,committee_fvc,committee_pef]\n",
        "committee_mtso"
      ],
      "metadata": {
        "colab": {
          "base_uri": "https://localhost:8080/"
        },
        "outputId": "d8b733ef-6241-4cee-913e-f47407e9f319",
        "id": "qB7JiD3f4gAY"
      },
      "execution_count": 33,
      "outputs": [
        {
          "output_type": "execute_result",
          "data": {
            "text/plain": [
              "[6.1393240629946275, 6.126044251632405, 7.092233512411234]"
            ]
          },
          "metadata": {},
          "execution_count": 33
        }
      ]
    },
    {
      "cell_type": "markdown",
      "source": [
        "##**Multi Task Multi Output**"
      ],
      "metadata": {
        "id": "ZxBCSA276Lob"
      }
    },
    {
      "cell_type": "code",
      "source": [
        "X_FVC,y_FVC = dataloader(\"FVC\")\n",
        "X_FEV1,y_FEV1 = dataloader(\"FEV1\")\n",
        "X_PEF,y_PEF = dataloader(\"PEF\")"
      ],
      "metadata": {
        "id": "CeN3T51q9_ah"
      },
      "execution_count": 34,
      "outputs": []
    },
    {
      "cell_type": "code",
      "source": [
        "X = concatenated_dataset = np.concatenate((X_FEV1, X_FVC, X_PEF), axis=1)\n",
        "\n",
        "y = []\n",
        "for i in range(len(y_FVC)):\n",
        "    y.append([y_FVC[i], y_FEV1[i], y_PEF[i]])\n",
        "\n",
        "y = np.array(y)"
      ],
      "metadata": {
        "id": "oCAN-2xtf7Rw"
      },
      "execution_count": 35,
      "outputs": []
    },
    {
      "cell_type": "code",
      "source": [
        "def loocv_mtmo(model, X, y):\n",
        "  results_fvc = []\n",
        "  results_fev = []\n",
        "  results_pef = []\n",
        "\n",
        "  loo = LeaveOneOut()\n",
        "  for train_index, test_index in loo.split(X):\n",
        "    X_train, X_test = X[train_index], X[test_index]\n",
        "    y_train, y_test = y[train_index,:], y[test_index,:]\n",
        "    model.fit(X_train, y_train)\n",
        "    y_pred = model.predict(X_test)\n",
        "    mape_fvc = np.abs((y_test[:,0] - y_pred[:,0]) / y_test[:,0]) * 100\n",
        "    mape_fev = np.abs((y_test[:,1] - y_pred[:,1]) / y_test[:,1]) * 100\n",
        "    mape_pef = np.abs((y_test[:,2] - y_pred[:,2]) / y_test[:,2]) * 100\n",
        "\n",
        "    results_fvc.append(mape_fvc)\n",
        "    results_fev.append(mape_fev)\n",
        "    results_pef.append(mape_pef)\n",
        "\n",
        "  mape_fvc = np.mean(results_fvc)\n",
        "  mape_fev = np.mean(results_fev) \n",
        "  mape_pef = np.mean(results_pef) \n",
        "\n",
        "  return mape_fvc, mape_fev, mape_pef"
      ],
      "metadata": {
        "id": "MhOosQuN6GrZ"
      },
      "execution_count": 36,
      "outputs": []
    },
    {
      "cell_type": "code",
      "source": [
        "model = RandomForestRegressor(random_state=42)\n",
        "fvc, fev, pef = loocv_mtmo(model,X,y)"
      ],
      "metadata": {
        "id": "MTkr4v4YevRA"
      },
      "execution_count": 37,
      "outputs": []
    },
    {
      "cell_type": "code",
      "source": [
        "rf_mtmo = [fev,fvc,pef]\n",
        "rf_mtmo"
      ],
      "metadata": {
        "id": "jcgie985qFnd",
        "outputId": "3136d37d-aca8-4019-ba05-5d7e9414a908",
        "colab": {
          "base_uri": "https://localhost:8080/"
        }
      },
      "execution_count": 38,
      "outputs": [
        {
          "output_type": "execute_result",
          "data": {
            "text/plain": [
              "[6.542853934399534, 6.352333293610973, 7.601706100773323]"
            ]
          },
          "metadata": {},
          "execution_count": 38
        }
      ]
    },
    {
      "cell_type": "markdown",
      "source": [
        "##**Plotting the data above**"
      ],
      "metadata": {
        "id": "avIbfnEO6faz"
      }
    },
    {
      "cell_type": "code",
      "source": [
        "# Creating dataframe having \n",
        "task_setting = np.array(['stso','stso','stso','stso','stso','stso','mtso','mtso','mtso','mtso','mtso','mtso','mtmo','mtmo','mtmo'])\n",
        "model = np.array(['rf','rf','rf','committee','committee','committee','rf','rf','rf','committee','committee','committee','rf','rf','rf'])\n",
        "task = np.array(['FEV1','FVC','PEF','FEV1','FVC','PEF','FEV1','FVC','PEF','FEV1','FVC','PEF','FEV1','FVC','PEF'])\n",
        "mape = np.array(np.concatenate([rf_stso,committee_stso,rf_mtso,committee_mtso,rf_mtmo],axis=0))\n",
        "\n",
        "# Creating the dataframe with specified column names\n",
        "df = pd.DataFrame({'task setting': task_setting, 'task': task,'model':model,'mape':mape})\n",
        "df"
      ],
      "metadata": {
        "colab": {
          "base_uri": "https://localhost:8080/",
          "height": 519
        },
        "id": "7cqBtmIk-r8x",
        "outputId": "bc624068-03c9-4f98-c69d-905bcfb363c8"
      },
      "execution_count": 40,
      "outputs": [
        {
          "output_type": "execute_result",
          "data": {
            "text/plain": [
              "   task setting  task      model      mape\n",
              "0          stso  FEV1         rf  6.159878\n",
              "1          stso   FVC         rf  5.485492\n",
              "2          stso   PEF         rf  6.965109\n",
              "3          stso  FEV1  committee  5.802979\n",
              "4          stso   FVC  committee  4.902590\n",
              "5          stso   PEF  committee  6.047798\n",
              "6          mtso  FEV1         rf  6.641022\n",
              "7          mtso   FVC         rf  5.861120\n",
              "8          mtso   PEF         rf  7.533435\n",
              "9          mtso  FEV1  committee  6.139324\n",
              "10         mtso   FVC  committee  6.126044\n",
              "11         mtso   PEF  committee  7.092234\n",
              "12         mtmo  FEV1         rf  6.542854\n",
              "13         mtmo   FVC         rf  6.352333\n",
              "14         mtmo   PEF         rf  7.601706"
            ],
            "text/html": [
              "\n",
              "  <div id=\"df-69068848-a455-4011-862c-a66db8c9aca1\">\n",
              "    <div class=\"colab-df-container\">\n",
              "      <div>\n",
              "<style scoped>\n",
              "    .dataframe tbody tr th:only-of-type {\n",
              "        vertical-align: middle;\n",
              "    }\n",
              "\n",
              "    .dataframe tbody tr th {\n",
              "        vertical-align: top;\n",
              "    }\n",
              "\n",
              "    .dataframe thead th {\n",
              "        text-align: right;\n",
              "    }\n",
              "</style>\n",
              "<table border=\"1\" class=\"dataframe\">\n",
              "  <thead>\n",
              "    <tr style=\"text-align: right;\">\n",
              "      <th></th>\n",
              "      <th>task setting</th>\n",
              "      <th>task</th>\n",
              "      <th>model</th>\n",
              "      <th>mape</th>\n",
              "    </tr>\n",
              "  </thead>\n",
              "  <tbody>\n",
              "    <tr>\n",
              "      <th>0</th>\n",
              "      <td>stso</td>\n",
              "      <td>FEV1</td>\n",
              "      <td>rf</td>\n",
              "      <td>6.159878</td>\n",
              "    </tr>\n",
              "    <tr>\n",
              "      <th>1</th>\n",
              "      <td>stso</td>\n",
              "      <td>FVC</td>\n",
              "      <td>rf</td>\n",
              "      <td>5.485492</td>\n",
              "    </tr>\n",
              "    <tr>\n",
              "      <th>2</th>\n",
              "      <td>stso</td>\n",
              "      <td>PEF</td>\n",
              "      <td>rf</td>\n",
              "      <td>6.965109</td>\n",
              "    </tr>\n",
              "    <tr>\n",
              "      <th>3</th>\n",
              "      <td>stso</td>\n",
              "      <td>FEV1</td>\n",
              "      <td>committee</td>\n",
              "      <td>5.802979</td>\n",
              "    </tr>\n",
              "    <tr>\n",
              "      <th>4</th>\n",
              "      <td>stso</td>\n",
              "      <td>FVC</td>\n",
              "      <td>committee</td>\n",
              "      <td>4.902590</td>\n",
              "    </tr>\n",
              "    <tr>\n",
              "      <th>5</th>\n",
              "      <td>stso</td>\n",
              "      <td>PEF</td>\n",
              "      <td>committee</td>\n",
              "      <td>6.047798</td>\n",
              "    </tr>\n",
              "    <tr>\n",
              "      <th>6</th>\n",
              "      <td>mtso</td>\n",
              "      <td>FEV1</td>\n",
              "      <td>rf</td>\n",
              "      <td>6.641022</td>\n",
              "    </tr>\n",
              "    <tr>\n",
              "      <th>7</th>\n",
              "      <td>mtso</td>\n",
              "      <td>FVC</td>\n",
              "      <td>rf</td>\n",
              "      <td>5.861120</td>\n",
              "    </tr>\n",
              "    <tr>\n",
              "      <th>8</th>\n",
              "      <td>mtso</td>\n",
              "      <td>PEF</td>\n",
              "      <td>rf</td>\n",
              "      <td>7.533435</td>\n",
              "    </tr>\n",
              "    <tr>\n",
              "      <th>9</th>\n",
              "      <td>mtso</td>\n",
              "      <td>FEV1</td>\n",
              "      <td>committee</td>\n",
              "      <td>6.139324</td>\n",
              "    </tr>\n",
              "    <tr>\n",
              "      <th>10</th>\n",
              "      <td>mtso</td>\n",
              "      <td>FVC</td>\n",
              "      <td>committee</td>\n",
              "      <td>6.126044</td>\n",
              "    </tr>\n",
              "    <tr>\n",
              "      <th>11</th>\n",
              "      <td>mtso</td>\n",
              "      <td>PEF</td>\n",
              "      <td>committee</td>\n",
              "      <td>7.092234</td>\n",
              "    </tr>\n",
              "    <tr>\n",
              "      <th>12</th>\n",
              "      <td>mtmo</td>\n",
              "      <td>FEV1</td>\n",
              "      <td>rf</td>\n",
              "      <td>6.542854</td>\n",
              "    </tr>\n",
              "    <tr>\n",
              "      <th>13</th>\n",
              "      <td>mtmo</td>\n",
              "      <td>FVC</td>\n",
              "      <td>rf</td>\n",
              "      <td>6.352333</td>\n",
              "    </tr>\n",
              "    <tr>\n",
              "      <th>14</th>\n",
              "      <td>mtmo</td>\n",
              "      <td>PEF</td>\n",
              "      <td>rf</td>\n",
              "      <td>7.601706</td>\n",
              "    </tr>\n",
              "  </tbody>\n",
              "</table>\n",
              "</div>\n",
              "      <button class=\"colab-df-convert\" onclick=\"convertToInteractive('df-69068848-a455-4011-862c-a66db8c9aca1')\"\n",
              "              title=\"Convert this dataframe to an interactive table.\"\n",
              "              style=\"display:none;\">\n",
              "        \n",
              "  <svg xmlns=\"http://www.w3.org/2000/svg\" height=\"24px\"viewBox=\"0 0 24 24\"\n",
              "       width=\"24px\">\n",
              "    <path d=\"M0 0h24v24H0V0z\" fill=\"none\"/>\n",
              "    <path d=\"M18.56 5.44l.94 2.06.94-2.06 2.06-.94-2.06-.94-.94-2.06-.94 2.06-2.06.94zm-11 1L8.5 8.5l.94-2.06 2.06-.94-2.06-.94L8.5 2.5l-.94 2.06-2.06.94zm10 10l.94 2.06.94-2.06 2.06-.94-2.06-.94-.94-2.06-.94 2.06-2.06.94z\"/><path d=\"M17.41 7.96l-1.37-1.37c-.4-.4-.92-.59-1.43-.59-.52 0-1.04.2-1.43.59L10.3 9.45l-7.72 7.72c-.78.78-.78 2.05 0 2.83L4 21.41c.39.39.9.59 1.41.59.51 0 1.02-.2 1.41-.59l7.78-7.78 2.81-2.81c.8-.78.8-2.07 0-2.86zM5.41 20L4 18.59l7.72-7.72 1.47 1.35L5.41 20z\"/>\n",
              "  </svg>\n",
              "      </button>\n",
              "      \n",
              "  <style>\n",
              "    .colab-df-container {\n",
              "      display:flex;\n",
              "      flex-wrap:wrap;\n",
              "      gap: 12px;\n",
              "    }\n",
              "\n",
              "    .colab-df-convert {\n",
              "      background-color: #E8F0FE;\n",
              "      border: none;\n",
              "      border-radius: 50%;\n",
              "      cursor: pointer;\n",
              "      display: none;\n",
              "      fill: #1967D2;\n",
              "      height: 32px;\n",
              "      padding: 0 0 0 0;\n",
              "      width: 32px;\n",
              "    }\n",
              "\n",
              "    .colab-df-convert:hover {\n",
              "      background-color: #E2EBFA;\n",
              "      box-shadow: 0px 1px 2px rgba(60, 64, 67, 0.3), 0px 1px 3px 1px rgba(60, 64, 67, 0.15);\n",
              "      fill: #174EA6;\n",
              "    }\n",
              "\n",
              "    [theme=dark] .colab-df-convert {\n",
              "      background-color: #3B4455;\n",
              "      fill: #D2E3FC;\n",
              "    }\n",
              "\n",
              "    [theme=dark] .colab-df-convert:hover {\n",
              "      background-color: #434B5C;\n",
              "      box-shadow: 0px 1px 3px 1px rgba(0, 0, 0, 0.15);\n",
              "      filter: drop-shadow(0px 1px 2px rgba(0, 0, 0, 0.3));\n",
              "      fill: #FFFFFF;\n",
              "    }\n",
              "  </style>\n",
              "\n",
              "      <script>\n",
              "        const buttonEl =\n",
              "          document.querySelector('#df-69068848-a455-4011-862c-a66db8c9aca1 button.colab-df-convert');\n",
              "        buttonEl.style.display =\n",
              "          google.colab.kernel.accessAllowed ? 'block' : 'none';\n",
              "\n",
              "        async function convertToInteractive(key) {\n",
              "          const element = document.querySelector('#df-69068848-a455-4011-862c-a66db8c9aca1');\n",
              "          const dataTable =\n",
              "            await google.colab.kernel.invokeFunction('convertToInteractive',\n",
              "                                                     [key], {});\n",
              "          if (!dataTable) return;\n",
              "\n",
              "          const docLinkHtml = 'Like what you see? Visit the ' +\n",
              "            '<a target=\"_blank\" href=https://colab.research.google.com/notebooks/data_table.ipynb>data table notebook</a>'\n",
              "            + ' to learn more about interactive tables.';\n",
              "          element.innerHTML = '';\n",
              "          dataTable['output_type'] = 'display_data';\n",
              "          await google.colab.output.renderOutput(dataTable, element);\n",
              "          const docLink = document.createElement('div');\n",
              "          docLink.innerHTML = docLinkHtml;\n",
              "          element.appendChild(docLink);\n",
              "        }\n",
              "      </script>\n",
              "    </div>\n",
              "  </div>\n",
              "  "
            ]
          },
          "metadata": {},
          "execution_count": 40
        }
      ]
    },
    {
      "cell_type": "code",
      "source": [
        "try:\n",
        "    from probml_utils import savefig, latexify, is_latexify_enabled\n",
        "except ModuleNotFoundError:\n",
        "    %pip install git+https://github.com/probml/probml-utils.git\n",
        "    from probml_utils import savefig, latexify, is_latexify_enabled\n",
        "\n",
        "!sudo apt-get install texlive-latex-extra texlive-fonts-recommended dvipng cm-super"
      ],
      "metadata": {
        "colab": {
          "base_uri": "https://localhost:8080/"
        },
        "id": "T-HMDdGp7D7S",
        "outputId": "160667ec-4db2-4882-e638-0db502be0c3b"
      },
      "execution_count": 41,
      "outputs": [
        {
          "output_type": "stream",
          "name": "stdout",
          "text": [
            "Looking in indexes: https://pypi.org/simple, https://us-python.pkg.dev/colab-wheels/public/simple/\n",
            "Collecting git+https://github.com/probml/probml-utils.git\n",
            "  Cloning https://github.com/probml/probml-utils.git to /tmp/pip-req-build-wjk9ttmi\n",
            "  Running command git clone --filter=blob:none --quiet https://github.com/probml/probml-utils.git /tmp/pip-req-build-wjk9ttmi\n",
            "  Resolved https://github.com/probml/probml-utils.git to commit 536534e37cf8b03948e7ac5a5b5d8e62ef62057c\n",
            "  Installing build dependencies ... \u001b[?25l\u001b[?25hdone\n",
            "  Getting requirements to build wheel ... \u001b[?25l\u001b[?25hdone\n",
            "  Preparing metadata (pyproject.toml) ... \u001b[?25l\u001b[?25hdone\n",
            "Requirement already satisfied: jaxlib in /usr/local/lib/python3.8/dist-packages (from probml-utils==0.1.dev96+g536534e) (0.4.4+cuda11.cudnn82)\n",
            "Requirement already satisfied: scikit-learn in /usr/local/lib/python3.8/dist-packages (from probml-utils==0.1.dev96+g536534e) (1.2.1)\n",
            "Requirement already satisfied: numpy in /usr/local/lib/python3.8/dist-packages (from probml-utils==0.1.dev96+g536534e) (1.22.4)\n",
            "Requirement already satisfied: arviz in /usr/local/lib/python3.8/dist-packages (from probml-utils==0.1.dev96+g536534e) (0.12.1)\n",
            "Collecting jaxopt\n",
            "  Downloading jaxopt-0.6-py3-none-any.whl (142 kB)\n",
            "\u001b[2K     \u001b[90m━━━━━━━━━━━━━━━━━━━━━━━━━━━━━━━━━━━━━━\u001b[0m \u001b[32m142.2/142.2 KB\u001b[0m \u001b[31m11.5 MB/s\u001b[0m eta \u001b[36m0:00:00\u001b[0m\n",
            "\u001b[?25hRequirement already satisfied: matplotlib in /usr/local/lib/python3.8/dist-packages (from probml-utils==0.1.dev96+g536534e) (3.5.3)\n",
            "Requirement already satisfied: jax in /usr/local/lib/python3.8/dist-packages (from probml-utils==0.1.dev96+g536534e) (0.4.4)\n",
            "Collecting distrax\n",
            "  Downloading distrax-0.1.3-py3-none-any.whl (317 kB)\n",
            "\u001b[2K     \u001b[90m━━━━━━━━━━━━━━━━━━━━━━━━━━━━━━━━━━━━━━\u001b[0m \u001b[32m318.0/318.0 KB\u001b[0m \u001b[31m26.6 MB/s\u001b[0m eta \u001b[36m0:00:00\u001b[0m\n",
            "\u001b[?25hRequirement already satisfied: pandas in /usr/local/lib/python3.8/dist-packages (from probml-utils==0.1.dev96+g536534e) (1.3.5)\n",
            "Requirement already satisfied: scipy in /usr/local/lib/python3.8/dist-packages (from probml-utils==0.1.dev96+g536534e) (1.10.1)\n",
            "Requirement already satisfied: regex in /usr/local/lib/python3.8/dist-packages (from probml-utils==0.1.dev96+g536534e) (2022.6.2)\n",
            "Requirement already satisfied: graphviz in /usr/local/lib/python3.8/dist-packages (from probml-utils==0.1.dev96+g536534e) (0.10.1)\n",
            "Collecting jupyter\n",
            "  Downloading jupyter-1.0.0-py2.py3-none-any.whl (2.7 kB)\n",
            "Collecting TexSoup\n",
            "  Downloading TexSoup-0.3.1.tar.gz (26 kB)\n",
            "  Preparing metadata (setup.py) ... \u001b[?25l\u001b[?25hdone\n",
            "Requirement already satisfied: firebase-admin in /usr/local/lib/python3.8/dist-packages (from probml-utils==0.1.dev96+g536534e) (5.3.0)\n",
            "Collecting umap-learn\n",
            "  Downloading umap-learn-0.5.3.tar.gz (88 kB)\n",
            "\u001b[2K     \u001b[90m━━━━━━━━━━━━━━━━━━━━━━━━━━━━━━━━━━━━━━━━\u001b[0m \u001b[32m88.2/88.2 KB\u001b[0m \u001b[31m9.1 MB/s\u001b[0m eta \u001b[36m0:00:00\u001b[0m\n",
            "\u001b[?25h  Preparing metadata (setup.py) ... \u001b[?25l\u001b[?25hdone\n",
            "Requirement already satisfied: netcdf4 in /usr/local/lib/python3.8/dist-packages (from arviz->probml-utils==0.1.dev96+g536534e) (1.6.2)\n",
            "Requirement already satisfied: typing-extensions>=3.7.4.3 in /usr/local/lib/python3.8/dist-packages (from arviz->probml-utils==0.1.dev96+g536534e) (4.5.0)\n",
            "Requirement already satisfied: packaging in /usr/local/lib/python3.8/dist-packages (from arviz->probml-utils==0.1.dev96+g536534e) (23.0)\n",
            "Requirement already satisfied: xarray-einstats>=0.2 in /usr/local/lib/python3.8/dist-packages (from arviz->probml-utils==0.1.dev96+g536534e) (0.5.1)\n",
            "Requirement already satisfied: setuptools>=38.4 in /usr/local/lib/python3.8/dist-packages (from arviz->probml-utils==0.1.dev96+g536534e) (57.4.0)\n",
            "Requirement already satisfied: xarray>=0.16.1 in /usr/local/lib/python3.8/dist-packages (from arviz->probml-utils==0.1.dev96+g536534e) (2022.12.0)\n",
            "Requirement already satisfied: cycler>=0.10 in /usr/local/lib/python3.8/dist-packages (from matplotlib->probml-utils==0.1.dev96+g536534e) (0.11.0)\n",
            "Requirement already satisfied: pyparsing>=2.2.1 in /usr/local/lib/python3.8/dist-packages (from matplotlib->probml-utils==0.1.dev96+g536534e) (3.0.9)\n",
            "Requirement already satisfied: pillow>=6.2.0 in /usr/local/lib/python3.8/dist-packages (from matplotlib->probml-utils==0.1.dev96+g536534e) (8.4.0)\n",
            "Requirement already satisfied: python-dateutil>=2.7 in /usr/local/lib/python3.8/dist-packages (from matplotlib->probml-utils==0.1.dev96+g536534e) (2.8.2)\n",
            "Requirement already satisfied: kiwisolver>=1.0.1 in /usr/local/lib/python3.8/dist-packages (from matplotlib->probml-utils==0.1.dev96+g536534e) (1.4.4)\n",
            "Requirement already satisfied: fonttools>=4.22.0 in /usr/local/lib/python3.8/dist-packages (from matplotlib->probml-utils==0.1.dev96+g536534e) (4.38.0)\n",
            "Requirement already satisfied: pytz>=2017.3 in /usr/local/lib/python3.8/dist-packages (from pandas->probml-utils==0.1.dev96+g536534e) (2022.7.1)\n",
            "Collecting chex>=0.0.7\n",
            "  Downloading chex-0.1.6-py3-none-any.whl (87 kB)\n",
            "\u001b[2K     \u001b[90m━━━━━━━━━━━━━━━━━━━━━━━━━━━━━━━━━━━━━━━━\u001b[0m \u001b[32m87.9/87.9 KB\u001b[0m \u001b[31m9.1 MB/s\u001b[0m eta \u001b[36m0:00:00\u001b[0m\n",
            "\u001b[?25hRequirement already satisfied: absl-py>=0.9.0 in /usr/local/lib/python3.8/dist-packages (from distrax->probml-utils==0.1.dev96+g536534e) (1.4.0)\n",
            "Requirement already satisfied: tensorflow-probability>=0.15.0 in /usr/local/lib/python3.8/dist-packages (from distrax->probml-utils==0.1.dev96+g536534e) (0.19.0)\n",
            "Requirement already satisfied: opt-einsum in /usr/local/lib/python3.8/dist-packages (from jax->probml-utils==0.1.dev96+g536534e) (3.3.0)\n",
            "Requirement already satisfied: google-api-core[grpc]<3.0.0dev,>=1.22.1 in /usr/local/lib/python3.8/dist-packages (from firebase-admin->probml-utils==0.1.dev96+g536534e) (2.11.0)\n",
            "Requirement already satisfied: google-cloud-storage>=1.37.1 in /usr/local/lib/python3.8/dist-packages (from firebase-admin->probml-utils==0.1.dev96+g536534e) (2.7.0)\n",
            "Requirement already satisfied: cachecontrol>=0.12.6 in /usr/local/lib/python3.8/dist-packages (from firebase-admin->probml-utils==0.1.dev96+g536534e) (0.12.11)\n",
            "Requirement already satisfied: google-cloud-firestore>=2.1.0 in /usr/local/lib/python3.8/dist-packages (from firebase-admin->probml-utils==0.1.dev96+g536534e) (2.7.3)\n",
            "Requirement already satisfied: google-api-python-client>=1.7.8 in /usr/local/lib/python3.8/dist-packages (from firebase-admin->probml-utils==0.1.dev96+g536534e) (2.70.0)\n",
            "Requirement already satisfied: nbconvert in /usr/local/lib/python3.8/dist-packages (from jupyter->probml-utils==0.1.dev96+g536534e) (6.5.4)\n",
            "Collecting qtconsole\n",
            "  Downloading qtconsole-5.4.0-py3-none-any.whl (121 kB)\n",
            "\u001b[2K     \u001b[90m━━━━━━━━━━━━━━━━━━━━━━━━━━━━━━━━━━━━━━\u001b[0m \u001b[32m121.0/121.0 KB\u001b[0m \u001b[31m13.6 MB/s\u001b[0m eta \u001b[36m0:00:00\u001b[0m\n",
            "\u001b[?25hRequirement already satisfied: notebook in /usr/local/lib/python3.8/dist-packages (from jupyter->probml-utils==0.1.dev96+g536534e) (6.3.0)\n",
            "Requirement already satisfied: jupyter-console in /usr/local/lib/python3.8/dist-packages (from jupyter->probml-utils==0.1.dev96+g536534e) (6.1.0)\n",
            "Requirement already satisfied: ipywidgets in /usr/local/lib/python3.8/dist-packages (from jupyter->probml-utils==0.1.dev96+g536534e) (7.7.1)\n",
            "Requirement already satisfied: ipykernel in /usr/local/lib/python3.8/dist-packages (from jupyter->probml-utils==0.1.dev96+g536534e) (5.3.4)\n",
            "Requirement already satisfied: joblib>=1.1.1 in /usr/local/lib/python3.8/dist-packages (from scikit-learn->probml-utils==0.1.dev96+g536534e) (1.2.0)\n",
            "Requirement already satisfied: threadpoolctl>=2.0.0 in /usr/local/lib/python3.8/dist-packages (from scikit-learn->probml-utils==0.1.dev96+g536534e) (3.1.0)\n",
            "Requirement already satisfied: numba>=0.49 in /usr/local/lib/python3.8/dist-packages (from umap-learn->probml-utils==0.1.dev96+g536534e) (0.56.4)\n",
            "Collecting pynndescent>=0.5\n",
            "  Downloading pynndescent-0.5.8.tar.gz (1.1 MB)\n",
            "\u001b[2K     \u001b[90m━━━━━━━━━━━━━━━━━━━━━━━━━━━━━━━━━━━━━━━━\u001b[0m \u001b[32m1.1/1.1 MB\u001b[0m \u001b[31m56.9 MB/s\u001b[0m eta \u001b[36m0:00:00\u001b[0m\n",
            "\u001b[?25h  Preparing metadata (setup.py) ... \u001b[?25l\u001b[?25hdone\n",
            "Requirement already satisfied: tqdm in /usr/local/lib/python3.8/dist-packages (from umap-learn->probml-utils==0.1.dev96+g536534e) (4.64.1)\n",
            "Requirement already satisfied: msgpack>=0.5.2 in /usr/local/lib/python3.8/dist-packages (from cachecontrol>=0.12.6->firebase-admin->probml-utils==0.1.dev96+g536534e) (1.0.4)\n",
            "Requirement already satisfied: requests in /usr/local/lib/python3.8/dist-packages (from cachecontrol>=0.12.6->firebase-admin->probml-utils==0.1.dev96+g536534e) (2.25.1)\n",
            "Requirement already satisfied: toolz>=0.9.0 in /usr/local/lib/python3.8/dist-packages (from chex>=0.0.7->distrax->probml-utils==0.1.dev96+g536534e) (0.12.0)\n",
            "Requirement already satisfied: dm-tree>=0.1.5 in /usr/local/lib/python3.8/dist-packages (from chex>=0.0.7->distrax->probml-utils==0.1.dev96+g536534e) (0.1.8)\n",
            "Requirement already satisfied: protobuf!=3.20.0,!=3.20.1,!=4.21.0,!=4.21.1,!=4.21.2,!=4.21.3,!=4.21.4,!=4.21.5,<5.0.0dev,>=3.19.5 in /usr/local/lib/python3.8/dist-packages (from google-api-core[grpc]<3.0.0dev,>=1.22.1->firebase-admin->probml-utils==0.1.dev96+g536534e) (3.19.6)\n",
            "Requirement already satisfied: google-auth<3.0dev,>=2.14.1 in /usr/local/lib/python3.8/dist-packages (from google-api-core[grpc]<3.0.0dev,>=1.22.1->firebase-admin->probml-utils==0.1.dev96+g536534e) (2.16.1)\n",
            "Requirement already satisfied: googleapis-common-protos<2.0dev,>=1.56.2 in /usr/local/lib/python3.8/dist-packages (from google-api-core[grpc]<3.0.0dev,>=1.22.1->firebase-admin->probml-utils==0.1.dev96+g536534e) (1.58.0)\n",
            "Requirement already satisfied: grpcio-status<2.0dev,>=1.33.2 in /usr/local/lib/python3.8/dist-packages (from google-api-core[grpc]<3.0.0dev,>=1.22.1->firebase-admin->probml-utils==0.1.dev96+g536534e) (1.48.2)\n",
            "Requirement already satisfied: grpcio<2.0dev,>=1.33.2 in /usr/local/lib/python3.8/dist-packages (from google-api-core[grpc]<3.0.0dev,>=1.22.1->firebase-admin->probml-utils==0.1.dev96+g536534e) (1.51.3)\n",
            "Requirement already satisfied: httplib2<1dev,>=0.15.0 in /usr/local/lib/python3.8/dist-packages (from google-api-python-client>=1.7.8->firebase-admin->probml-utils==0.1.dev96+g536534e) (0.17.4)\n",
            "Requirement already satisfied: google-auth-httplib2>=0.1.0 in /usr/local/lib/python3.8/dist-packages (from google-api-python-client>=1.7.8->firebase-admin->probml-utils==0.1.dev96+g536534e) (0.1.0)\n",
            "Requirement already satisfied: uritemplate<5,>=3.0.1 in /usr/local/lib/python3.8/dist-packages (from google-api-python-client>=1.7.8->firebase-admin->probml-utils==0.1.dev96+g536534e) (4.1.1)\n",
            "Requirement already satisfied: proto-plus<2.0.0dev,>=1.22.0 in /usr/local/lib/python3.8/dist-packages (from google-cloud-firestore>=2.1.0->firebase-admin->probml-utils==0.1.dev96+g536534e) (1.22.2)\n",
            "Requirement already satisfied: google-cloud-core<3.0.0dev,>=1.4.1 in /usr/local/lib/python3.8/dist-packages (from google-cloud-firestore>=2.1.0->firebase-admin->probml-utils==0.1.dev96+g536534e) (2.3.2)\n",
            "Requirement already satisfied: google-resumable-media>=2.3.2 in /usr/local/lib/python3.8/dist-packages (from google-cloud-storage>=1.37.1->firebase-admin->probml-utils==0.1.dev96+g536534e) (2.4.1)\n",
            "Requirement already satisfied: importlib-metadata in /usr/local/lib/python3.8/dist-packages (from numba>=0.49->umap-learn->probml-utils==0.1.dev96+g536534e) (6.0.0)\n",
            "Requirement already satisfied: llvmlite<0.40,>=0.39.0dev0 in /usr/local/lib/python3.8/dist-packages (from numba>=0.49->umap-learn->probml-utils==0.1.dev96+g536534e) (0.39.1)\n",
            "Requirement already satisfied: six>=1.5 in /usr/local/lib/python3.8/dist-packages (from python-dateutil>=2.7->matplotlib->probml-utils==0.1.dev96+g536534e) (1.15.0)\n",
            "Requirement already satisfied: cloudpickle>=1.3 in /usr/local/lib/python3.8/dist-packages (from tensorflow-probability>=0.15.0->distrax->probml-utils==0.1.dev96+g536534e) (2.2.1)\n",
            "Requirement already satisfied: gast>=0.3.2 in /usr/local/lib/python3.8/dist-packages (from tensorflow-probability>=0.15.0->distrax->probml-utils==0.1.dev96+g536534e) (0.4.0)\n",
            "Requirement already satisfied: decorator in /usr/local/lib/python3.8/dist-packages (from tensorflow-probability>=0.15.0->distrax->probml-utils==0.1.dev96+g536534e) (4.4.2)\n",
            "Requirement already satisfied: traitlets>=4.1.0 in /usr/local/lib/python3.8/dist-packages (from ipykernel->jupyter->probml-utils==0.1.dev96+g536534e) (5.7.1)\n",
            "Requirement already satisfied: tornado>=4.2 in /usr/local/lib/python3.8/dist-packages (from ipykernel->jupyter->probml-utils==0.1.dev96+g536534e) (6.2)\n",
            "Requirement already satisfied: jupyter-client in /usr/local/lib/python3.8/dist-packages (from ipykernel->jupyter->probml-utils==0.1.dev96+g536534e) (6.1.12)\n",
            "Requirement already satisfied: ipython>=5.0.0 in /usr/local/lib/python3.8/dist-packages (from ipykernel->jupyter->probml-utils==0.1.dev96+g536534e) (7.9.0)\n",
            "Requirement already satisfied: ipython-genutils~=0.2.0 in /usr/local/lib/python3.8/dist-packages (from ipywidgets->jupyter->probml-utils==0.1.dev96+g536534e) (0.2.0)\n",
            "Requirement already satisfied: jupyterlab-widgets>=1.0.0 in /usr/local/lib/python3.8/dist-packages (from ipywidgets->jupyter->probml-utils==0.1.dev96+g536534e) (3.0.5)\n",
            "Requirement already satisfied: widgetsnbextension~=3.6.0 in /usr/local/lib/python3.8/dist-packages (from ipywidgets->jupyter->probml-utils==0.1.dev96+g536534e) (3.6.2)\n",
            "Requirement already satisfied: prompt-toolkit!=3.0.0,!=3.0.1,<3.1.0,>=2.0.0 in /usr/local/lib/python3.8/dist-packages (from jupyter-console->jupyter->probml-utils==0.1.dev96+g536534e) (2.0.10)\n",
            "Requirement already satisfied: pygments in /usr/local/lib/python3.8/dist-packages (from jupyter-console->jupyter->probml-utils==0.1.dev96+g536534e) (2.6.1)\n",
            "Requirement already satisfied: nbformat>=5.1 in /usr/local/lib/python3.8/dist-packages (from nbconvert->jupyter->probml-utils==0.1.dev96+g536534e) (5.7.3)\n",
            "Requirement already satisfied: entrypoints>=0.2.2 in /usr/local/lib/python3.8/dist-packages (from nbconvert->jupyter->probml-utils==0.1.dev96+g536534e) (0.4)\n",
            "Requirement already satisfied: tinycss2 in /usr/local/lib/python3.8/dist-packages (from nbconvert->jupyter->probml-utils==0.1.dev96+g536534e) (1.2.1)\n",
            "Requirement already satisfied: lxml in /usr/local/lib/python3.8/dist-packages (from nbconvert->jupyter->probml-utils==0.1.dev96+g536534e) (4.9.2)\n",
            "Requirement already satisfied: jinja2>=3.0 in /usr/local/lib/python3.8/dist-packages (from nbconvert->jupyter->probml-utils==0.1.dev96+g536534e) (3.1.2)\n",
            "Requirement already satisfied: jupyterlab-pygments in /usr/local/lib/python3.8/dist-packages (from nbconvert->jupyter->probml-utils==0.1.dev96+g536534e) (0.2.2)\n",
            "Requirement already satisfied: jupyter-core>=4.7 in /usr/local/lib/python3.8/dist-packages (from nbconvert->jupyter->probml-utils==0.1.dev96+g536534e) (5.2.0)\n",
            "Requirement already satisfied: beautifulsoup4 in /usr/local/lib/python3.8/dist-packages (from nbconvert->jupyter->probml-utils==0.1.dev96+g536534e) (4.6.3)\n",
            "Requirement already satisfied: bleach in /usr/local/lib/python3.8/dist-packages (from nbconvert->jupyter->probml-utils==0.1.dev96+g536534e) (6.0.0)\n",
            "Requirement already satisfied: MarkupSafe>=2.0 in /usr/local/lib/python3.8/dist-packages (from nbconvert->jupyter->probml-utils==0.1.dev96+g536534e) (2.1.2)\n",
            "Requirement already satisfied: nbclient>=0.5.0 in /usr/local/lib/python3.8/dist-packages (from nbconvert->jupyter->probml-utils==0.1.dev96+g536534e) (0.7.2)\n",
            "Requirement already satisfied: defusedxml in /usr/local/lib/python3.8/dist-packages (from nbconvert->jupyter->probml-utils==0.1.dev96+g536534e) (0.7.1)\n",
            "Requirement already satisfied: pandocfilters>=1.4.1 in /usr/local/lib/python3.8/dist-packages (from nbconvert->jupyter->probml-utils==0.1.dev96+g536534e) (1.5.0)\n",
            "Requirement already satisfied: mistune<2,>=0.8.1 in /usr/local/lib/python3.8/dist-packages (from nbconvert->jupyter->probml-utils==0.1.dev96+g536534e) (0.8.4)\n",
            "Requirement already satisfied: cftime in /usr/local/lib/python3.8/dist-packages (from netcdf4->arviz->probml-utils==0.1.dev96+g536534e) (1.6.2)\n",
            "Requirement already satisfied: argon2-cffi in /usr/local/lib/python3.8/dist-packages (from notebook->jupyter->probml-utils==0.1.dev96+g536534e) (21.3.0)\n",
            "Requirement already satisfied: terminado>=0.8.3 in /usr/local/lib/python3.8/dist-packages (from notebook->jupyter->probml-utils==0.1.dev96+g536534e) (0.13.3)\n",
            "Requirement already satisfied: Send2Trash>=1.5.0 in /usr/local/lib/python3.8/dist-packages (from notebook->jupyter->probml-utils==0.1.dev96+g536534e) (1.8.0)\n",
            "Requirement already satisfied: prometheus-client in /usr/local/lib/python3.8/dist-packages (from notebook->jupyter->probml-utils==0.1.dev96+g536534e) (0.16.0)\n",
            "Requirement already satisfied: pyzmq>=17 in /usr/local/lib/python3.8/dist-packages (from notebook->jupyter->probml-utils==0.1.dev96+g536534e) (23.2.1)\n",
            "Collecting qtpy>=2.0.1\n",
            "  Downloading QtPy-2.3.0-py3-none-any.whl (83 kB)\n",
            "\u001b[2K     \u001b[90m━━━━━━━━━━━━━━━━━━━━━━━━━━━━━━━━━━━━━━━━\u001b[0m \u001b[32m83.6/83.6 KB\u001b[0m \u001b[31m8.4 MB/s\u001b[0m eta \u001b[36m0:00:00\u001b[0m\n",
            "\u001b[?25hRequirement already satisfied: rsa<5,>=3.1.4 in /usr/local/lib/python3.8/dist-packages (from google-auth<3.0dev,>=2.14.1->google-api-core[grpc]<3.0.0dev,>=1.22.1->firebase-admin->probml-utils==0.1.dev96+g536534e) (4.9)\n",
            "Requirement already satisfied: pyasn1-modules>=0.2.1 in /usr/local/lib/python3.8/dist-packages (from google-auth<3.0dev,>=2.14.1->google-api-core[grpc]<3.0.0dev,>=1.22.1->firebase-admin->probml-utils==0.1.dev96+g536534e) (0.2.8)\n",
            "Requirement already satisfied: cachetools<6.0,>=2.0.0 in /usr/local/lib/python3.8/dist-packages (from google-auth<3.0dev,>=2.14.1->google-api-core[grpc]<3.0.0dev,>=1.22.1->firebase-admin->probml-utils==0.1.dev96+g536534e) (5.3.0)\n",
            "Requirement already satisfied: google-crc32c<2.0dev,>=1.0 in /usr/local/lib/python3.8/dist-packages (from google-resumable-media>=2.3.2->google-cloud-storage>=1.37.1->firebase-admin->probml-utils==0.1.dev96+g536534e) (1.5.0)\n",
            "Collecting jedi>=0.10\n",
            "  Downloading jedi-0.18.2-py2.py3-none-any.whl (1.6 MB)\n",
            "\u001b[2K     \u001b[90m━━━━━━━━━━━━━━━━━━━━━━━━━━━━━━━━━━━━━━━━\u001b[0m \u001b[32m1.6/1.6 MB\u001b[0m \u001b[31m57.8 MB/s\u001b[0m eta \u001b[36m0:00:00\u001b[0m\n",
            "\u001b[?25hRequirement already satisfied: pickleshare in /usr/local/lib/python3.8/dist-packages (from ipython>=5.0.0->ipykernel->jupyter->probml-utils==0.1.dev96+g536534e) (0.7.5)\n",
            "Requirement already satisfied: backcall in /usr/local/lib/python3.8/dist-packages (from ipython>=5.0.0->ipykernel->jupyter->probml-utils==0.1.dev96+g536534e) (0.2.0)\n",
            "Requirement already satisfied: pexpect in /usr/local/lib/python3.8/dist-packages (from ipython>=5.0.0->ipykernel->jupyter->probml-utils==0.1.dev96+g536534e) (4.8.0)\n",
            "Requirement already satisfied: platformdirs>=2.5 in /usr/local/lib/python3.8/dist-packages (from jupyter-core>=4.7->nbconvert->jupyter->probml-utils==0.1.dev96+g536534e) (3.0.0)\n",
            "Requirement already satisfied: fastjsonschema in /usr/local/lib/python3.8/dist-packages (from nbformat>=5.1->nbconvert->jupyter->probml-utils==0.1.dev96+g536534e) (2.16.3)\n",
            "Requirement already satisfied: jsonschema>=2.6 in /usr/local/lib/python3.8/dist-packages (from nbformat>=5.1->nbconvert->jupyter->probml-utils==0.1.dev96+g536534e) (4.3.3)\n",
            "Requirement already satisfied: wcwidth in /usr/local/lib/python3.8/dist-packages (from prompt-toolkit!=3.0.0,!=3.0.1,<3.1.0,>=2.0.0->jupyter-console->jupyter->probml-utils==0.1.dev96+g536534e) (0.2.6)\n",
            "Requirement already satisfied: certifi>=2017.4.17 in /usr/local/lib/python3.8/dist-packages (from requests->cachecontrol>=0.12.6->firebase-admin->probml-utils==0.1.dev96+g536534e) (2022.12.7)\n",
            "Requirement already satisfied: chardet<5,>=3.0.2 in /usr/local/lib/python3.8/dist-packages (from requests->cachecontrol>=0.12.6->firebase-admin->probml-utils==0.1.dev96+g536534e) (4.0.0)\n",
            "Requirement already satisfied: urllib3<1.27,>=1.21.1 in /usr/local/lib/python3.8/dist-packages (from requests->cachecontrol>=0.12.6->firebase-admin->probml-utils==0.1.dev96+g536534e) (1.26.14)\n",
            "Requirement already satisfied: idna<3,>=2.5 in /usr/local/lib/python3.8/dist-packages (from requests->cachecontrol>=0.12.6->firebase-admin->probml-utils==0.1.dev96+g536534e) (2.10)\n",
            "Requirement already satisfied: ptyprocess in /usr/local/lib/python3.8/dist-packages (from terminado>=0.8.3->notebook->jupyter->probml-utils==0.1.dev96+g536534e) (0.7.0)\n",
            "Requirement already satisfied: argon2-cffi-bindings in /usr/local/lib/python3.8/dist-packages (from argon2-cffi->notebook->jupyter->probml-utils==0.1.dev96+g536534e) (21.2.0)\n",
            "Requirement already satisfied: webencodings in /usr/local/lib/python3.8/dist-packages (from bleach->nbconvert->jupyter->probml-utils==0.1.dev96+g536534e) (0.5.1)\n",
            "Requirement already satisfied: zipp>=0.5 in /usr/local/lib/python3.8/dist-packages (from importlib-metadata->numba>=0.49->umap-learn->probml-utils==0.1.dev96+g536534e) (3.15.0)\n",
            "Requirement already satisfied: parso<0.9.0,>=0.8.0 in /usr/local/lib/python3.8/dist-packages (from jedi>=0.10->ipython>=5.0.0->ipykernel->jupyter->probml-utils==0.1.dev96+g536534e) (0.8.3)\n",
            "Requirement already satisfied: pyrsistent!=0.17.0,!=0.17.1,!=0.17.2,>=0.14.0 in /usr/local/lib/python3.8/dist-packages (from jsonschema>=2.6->nbformat>=5.1->nbconvert->jupyter->probml-utils==0.1.dev96+g536534e) (0.19.3)\n",
            "Requirement already satisfied: importlib-resources>=1.4.0 in /usr/local/lib/python3.8/dist-packages (from jsonschema>=2.6->nbformat>=5.1->nbconvert->jupyter->probml-utils==0.1.dev96+g536534e) (5.12.0)\n",
            "Requirement already satisfied: attrs>=17.4.0 in /usr/local/lib/python3.8/dist-packages (from jsonschema>=2.6->nbformat>=5.1->nbconvert->jupyter->probml-utils==0.1.dev96+g536534e) (22.2.0)\n",
            "Requirement already satisfied: pyasn1<0.5.0,>=0.4.6 in /usr/local/lib/python3.8/dist-packages (from pyasn1-modules>=0.2.1->google-auth<3.0dev,>=2.14.1->google-api-core[grpc]<3.0.0dev,>=1.22.1->firebase-admin->probml-utils==0.1.dev96+g536534e) (0.4.8)\n",
            "Requirement already satisfied: cffi>=1.0.1 in /usr/local/lib/python3.8/dist-packages (from argon2-cffi-bindings->argon2-cffi->notebook->jupyter->probml-utils==0.1.dev96+g536534e) (1.15.1)\n",
            "Requirement already satisfied: pycparser in /usr/local/lib/python3.8/dist-packages (from cffi>=1.0.1->argon2-cffi-bindings->argon2-cffi->notebook->jupyter->probml-utils==0.1.dev96+g536534e) (2.21)\n",
            "Building wheels for collected packages: probml-utils, TexSoup, umap-learn, pynndescent\n",
            "  Building wheel for probml-utils (pyproject.toml) ... \u001b[?25l\u001b[?25hdone\n",
            "  Created wheel for probml-utils: filename=probml_utils-0.1.dev96+g536534e-py3-none-any.whl size=119054 sha256=7eaf9646b6caeb2649f7a2b3bd8a91b145456a8e7a585e586a951859de9fbdb9\n",
            "  Stored in directory: /tmp/pip-ephem-wheel-cache-txcfcvpz/wheels/2d/85/d5/303366f2452d0e33ba7fee44ef56ef6db425ca4c4832690360\n",
            "  Building wheel for TexSoup (setup.py) ... \u001b[?25l\u001b[?25hdone\n",
            "  Created wheel for TexSoup: filename=TexSoup-0.3.1-py3-none-any.whl size=27666 sha256=0ba1aefd906d780128a69b6c780685e706358f00413349611199123d200cae27\n",
            "  Stored in directory: /root/.cache/pip/wheels/5a/25/08/ee7ad7d9f11d425d81dd32135de9caf13e69ae8662a85fbd3c\n",
            "  Building wheel for umap-learn (setup.py) ... \u001b[?25l\u001b[?25hdone\n",
            "  Created wheel for umap-learn: filename=umap_learn-0.5.3-py3-none-any.whl size=82829 sha256=3d990d797ae5b6f16c3827cb442df0ea6d95006103a64b3b4b760ebad393f57e\n",
            "  Stored in directory: /root/.cache/pip/wheels/a9/3a/67/06a8950e053725912e6a8c42c4a3a241410f6487b8402542ea\n",
            "  Building wheel for pynndescent (setup.py) ... \u001b[?25l\u001b[?25hdone\n",
            "  Created wheel for pynndescent: filename=pynndescent-0.5.8-py3-none-any.whl size=55513 sha256=508e826fbabf595db58ea4d28a269aebe4a1d1c0ee83a141752848f8b8421df5\n",
            "  Stored in directory: /root/.cache/pip/wheels/1c/63/3a/29954bca1a27ba100ed8c27973a78cb71b43dc67aed62e80c3\n",
            "Successfully built probml-utils TexSoup umap-learn pynndescent\n",
            "Installing collected packages: TexSoup, qtpy, jedi, pynndescent, jaxopt, chex, umap-learn, qtconsole, distrax, jupyter, probml-utils\n",
            "Successfully installed TexSoup-0.3.1 chex-0.1.6 distrax-0.1.3 jaxopt-0.6 jedi-0.18.2 jupyter-1.0.0 probml-utils-0.1.dev96+g536534e pynndescent-0.5.8 qtconsole-5.4.0 qtpy-2.3.0 umap-learn-0.5.3\n",
            "Reading package lists... Done\n",
            "Building dependency tree       \n",
            "Reading state information... Done\n",
            "The following additional packages will be installed:\n",
            "  cm-super-minimal dvisvgm fonts-droid-fallback fonts-lato fonts-lmodern\n",
            "  fonts-noto-mono fonts-texgyre fonts-urw-base35 ghostscript javascript-common\n",
            "  libapache-pom-java libcommons-logging-java libcommons-parent-java\n",
            "  libfontbox-java libgs9 libgs9-common libidn11 libijs-0.35 libjbig2dec0\n",
            "  libjs-jquery libkpathsea6 libpdfbox-java libptexenc1 libruby2.7 libsynctex2\n",
            "  libteckit0 libtexlua53 libtexluajit2 libzzip-0-13 lmodern pfb2t1c2pfb\n",
            "  poppler-data preview-latex-style rake ruby ruby-minitest ruby-net-telnet\n",
            "  ruby-power-assert ruby-test-unit ruby-xmlrpc ruby2.7 rubygems-integration\n",
            "  t1utils tex-common tex-gyre texlive-base texlive-binaries texlive-latex-base\n",
            "  texlive-latex-recommended texlive-pictures texlive-plain-generic tipa\n",
            "  xfonts-encodings xfonts-utils\n",
            "Suggested packages:\n",
            "  fonts-noto fonts-freefont-otf | fonts-freefont-ttf ghostscript-x apache2\n",
            "  | lighttpd | httpd libavalon-framework-java libcommons-logging-java-doc\n",
            "  libexcalibur-logkit-java liblog4j1.2-java poppler-utils\n",
            "  fonts-japanese-mincho | fonts-ipafont-mincho fonts-japanese-gothic\n",
            "  | fonts-ipafont-gothic fonts-arphic-ukai fonts-arphic-uming fonts-nanum ri\n",
            "  ruby-dev bundler debhelper perl-tk xpdf | pdf-viewer xzdec\n",
            "  texlive-fonts-recommended-doc texlive-latex-base-doc python3-pygments\n",
            "  icc-profiles libfile-which-perl libspreadsheet-parseexcel-perl\n",
            "  texlive-latex-extra-doc texlive-latex-recommended-doc texlive-luatex\n",
            "  texlive-pstricks dot2tex prerex ruby-tcltk | libtcltk-ruby\n",
            "  texlive-pictures-doc vprerex\n",
            "The following NEW packages will be installed:\n",
            "  cm-super cm-super-minimal dvipng dvisvgm fonts-droid-fallback fonts-lato\n",
            "  fonts-lmodern fonts-noto-mono fonts-texgyre fonts-urw-base35 ghostscript\n",
            "  javascript-common libapache-pom-java libcommons-logging-java\n",
            "  libcommons-parent-java libfontbox-java libgs9 libgs9-common libidn11\n",
            "  libijs-0.35 libjbig2dec0 libjs-jquery libkpathsea6 libpdfbox-java\n",
            "  libptexenc1 libruby2.7 libsynctex2 libteckit0 libtexlua53 libtexluajit2\n",
            "  libzzip-0-13 lmodern pfb2t1c2pfb poppler-data preview-latex-style rake ruby\n",
            "  ruby-minitest ruby-net-telnet ruby-power-assert ruby-test-unit ruby-xmlrpc\n",
            "  ruby2.7 rubygems-integration t1utils tex-common tex-gyre texlive-base\n",
            "  texlive-binaries texlive-fonts-recommended texlive-latex-base\n",
            "  texlive-latex-extra texlive-latex-recommended texlive-pictures\n",
            "  texlive-plain-generic tipa xfonts-encodings xfonts-utils\n",
            "0 upgraded, 58 newly installed, 0 to remove and 22 not upgraded.\n",
            "Need to get 178 MB of archives.\n",
            "After this operation, 565 MB of additional disk space will be used.\n",
            "Get:1 http://archive.ubuntu.com/ubuntu focal/main amd64 fonts-droid-fallback all 1:6.0.1r16-1.1 [1,805 kB]\n",
            "Get:2 http://archive.ubuntu.com/ubuntu focal/main amd64 fonts-lato all 2.0-2 [2,698 kB]\n",
            "Get:3 http://archive.ubuntu.com/ubuntu focal/main amd64 poppler-data all 0.4.9-2 [1,475 kB]\n",
            "Get:4 http://archive.ubuntu.com/ubuntu focal/universe amd64 tex-common all 6.13 [32.7 kB]\n",
            "Get:5 http://archive.ubuntu.com/ubuntu focal/main amd64 libkpathsea6 amd64 2019.20190605.51237-3build2 [57.0 kB]\n",
            "Get:6 http://archive.ubuntu.com/ubuntu focal/main amd64 libptexenc1 amd64 2019.20190605.51237-3build2 [35.5 kB]\n",
            "Get:7 http://archive.ubuntu.com/ubuntu focal/main amd64 libsynctex2 amd64 2019.20190605.51237-3build2 [55.0 kB]\n",
            "Get:8 http://archive.ubuntu.com/ubuntu focal/main amd64 libtexlua53 amd64 2019.20190605.51237-3build2 [105 kB]\n",
            "Get:9 http://archive.ubuntu.com/ubuntu focal/main amd64 libtexluajit2 amd64 2019.20190605.51237-3build2 [235 kB]\n",
            "Get:10 http://archive.ubuntu.com/ubuntu focal/main amd64 t1utils amd64 1.41-3 [56.1 kB]\n",
            "Get:11 http://archive.ubuntu.com/ubuntu focal/universe amd64 libteckit0 amd64 2.5.8+ds2-5ubuntu2 [320 kB]\n",
            "Get:12 http://archive.ubuntu.com/ubuntu focal/universe amd64 libzzip-0-13 amd64 0.13.62-3.2ubuntu1 [26.2 kB]\n",
            "Get:13 http://archive.ubuntu.com/ubuntu focal/universe amd64 texlive-binaries amd64 2019.20190605.51237-3build2 [8,041 kB]\n",
            "Get:14 http://archive.ubuntu.com/ubuntu focal/universe amd64 texlive-base all 2019.20200218-1 [20.8 MB]\n",
            "Get:15 http://archive.ubuntu.com/ubuntu focal/universe amd64 fonts-lmodern all 2.004.5-6 [4,532 kB]\n",
            "Get:16 http://archive.ubuntu.com/ubuntu focal/universe amd64 texlive-latex-base all 2019.20200218-1 [990 kB]\n",
            "Get:17 http://archive.ubuntu.com/ubuntu focal/universe amd64 texlive-latex-recommended all 2019.20200218-1 [15.7 MB]\n",
            "Get:18 http://archive.ubuntu.com/ubuntu focal/universe amd64 cm-super-minimal all 0.3.4-15 [5,811 kB]\n",
            "Get:19 http://archive.ubuntu.com/ubuntu focal/universe amd64 pfb2t1c2pfb amd64 0.3-11 [9,342 B]\n",
            "Get:20 http://archive.ubuntu.com/ubuntu focal/universe amd64 cm-super all 0.3.4-15 [18.7 MB]\n",
            "Get:21 http://archive.ubuntu.com/ubuntu focal/main amd64 fonts-urw-base35 all 20170801.1-3 [6,333 kB]\n",
            "Get:22 http://archive.ubuntu.com/ubuntu focal-updates/main amd64 libgs9-common all 9.50~dfsg-5ubuntu4.6 [681 kB]\n",
            "Get:23 http://archive.ubuntu.com/ubuntu focal/main amd64 libidn11 amd64 1.33-2.2ubuntu2 [46.2 kB]\n",
            "Get:24 http://archive.ubuntu.com/ubuntu focal/main amd64 libijs-0.35 amd64 0.35-15 [15.7 kB]\n",
            "Get:25 http://archive.ubuntu.com/ubuntu focal/main amd64 libjbig2dec0 amd64 0.18-1ubuntu1 [60.0 kB]\n",
            "Get:26 http://archive.ubuntu.com/ubuntu focal-updates/main amd64 libgs9 amd64 9.50~dfsg-5ubuntu4.6 [2,173 kB]\n",
            "Get:27 http://archive.ubuntu.com/ubuntu focal-updates/main amd64 ghostscript amd64 9.50~dfsg-5ubuntu4.6 [51.8 kB]\n",
            "Get:28 http://archive.ubuntu.com/ubuntu focal/universe amd64 dvipng amd64 1.15-1.1 [78.9 kB]\n",
            "Get:29 http://archive.ubuntu.com/ubuntu focal/universe amd64 dvisvgm amd64 2.8.1-1build1 [1,048 kB]\n",
            "Get:30 http://archive.ubuntu.com/ubuntu focal-updates/main amd64 fonts-noto-mono all 20200323-1build1~ubuntu20.04.1 [80.6 kB]\n",
            "Get:31 http://archive.ubuntu.com/ubuntu focal/universe amd64 fonts-texgyre all 20180621-3 [10.2 MB]\n",
            "Get:32 http://archive.ubuntu.com/ubuntu focal/main amd64 javascript-common all 11 [6,066 B]\n",
            "Get:33 http://archive.ubuntu.com/ubuntu focal/universe amd64 libapache-pom-java all 18-1 [4,720 B]\n",
            "Get:34 http://archive.ubuntu.com/ubuntu focal/universe amd64 libcommons-parent-java all 43-1 [10.8 kB]\n",
            "Get:35 http://archive.ubuntu.com/ubuntu focal/universe amd64 libcommons-logging-java all 1.2-2 [60.3 kB]\n",
            "Get:36 http://archive.ubuntu.com/ubuntu focal/main amd64 libjs-jquery all 3.3.1~dfsg-3 [329 kB]\n",
            "Get:37 http://archive.ubuntu.com/ubuntu focal/main amd64 rubygems-integration all 1.16 [5,092 B]\n",
            "Get:38 http://archive.ubuntu.com/ubuntu focal-updates/main amd64 ruby2.7 amd64 2.7.0-5ubuntu1.7 [95.6 kB]\n",
            "Get:39 http://archive.ubuntu.com/ubuntu focal/main amd64 ruby amd64 1:2.7+1 [5,412 B]\n",
            "Get:40 http://archive.ubuntu.com/ubuntu focal/main amd64 rake all 13.0.1-4 [61.6 kB]\n",
            "Get:41 http://archive.ubuntu.com/ubuntu focal/main amd64 ruby-minitest all 5.13.0-1 [40.9 kB]\n",
            "Get:42 http://archive.ubuntu.com/ubuntu focal/main amd64 ruby-net-telnet all 0.1.1-2 [12.6 kB]\n",
            "Get:43 http://archive.ubuntu.com/ubuntu focal/main amd64 ruby-power-assert all 1.1.7-1 [11.4 kB]\n",
            "Get:44 http://archive.ubuntu.com/ubuntu focal/main amd64 ruby-test-unit all 3.3.5-1 [73.2 kB]\n",
            "Get:45 http://archive.ubuntu.com/ubuntu focal/main amd64 ruby-xmlrpc all 0.3.0-2 [23.8 kB]\n",
            "Get:46 http://archive.ubuntu.com/ubuntu focal-updates/main amd64 libruby2.7 amd64 2.7.0-5ubuntu1.7 [3,533 kB]\n",
            "Get:47 http://archive.ubuntu.com/ubuntu focal/main amd64 xfonts-encodings all 1:1.0.5-0ubuntu1 [573 kB]\n",
            "Get:48 http://archive.ubuntu.com/ubuntu focal/main amd64 xfonts-utils amd64 1:7.7+6 [91.5 kB]\n",
            "Get:49 http://archive.ubuntu.com/ubuntu focal/universe amd64 lmodern all 2.004.5-6 [9,474 kB]\n",
            "Get:50 http://archive.ubuntu.com/ubuntu focal/universe amd64 preview-latex-style all 11.91-2ubuntu2 [184 kB]\n",
            "Get:51 http://archive.ubuntu.com/ubuntu focal/universe amd64 tex-gyre all 20180621-3 [6,209 kB]\n",
            "Get:52 http://archive.ubuntu.com/ubuntu focal/universe amd64 texlive-fonts-recommended all 2019.20200218-1 [4,972 kB]\n",
            "Get:53 http://archive.ubuntu.com/ubuntu focal/universe amd64 libfontbox-java all 1:1.8.16-2 [207 kB]\n",
            "Get:54 http://archive.ubuntu.com/ubuntu focal/universe amd64 libpdfbox-java all 1:1.8.16-2 [5,199 kB]\n",
            "Get:55 http://archive.ubuntu.com/ubuntu focal/universe amd64 texlive-pictures all 2019.20200218-1 [4,492 kB]\n",
            "Get:56 http://archive.ubuntu.com/ubuntu focal/universe amd64 texlive-latex-extra all 2019.202000218-1 [12.5 MB]\n",
            "Get:57 http://archive.ubuntu.com/ubuntu focal/universe amd64 texlive-plain-generic all 2019.202000218-1 [24.6 MB]\n",
            "Get:58 http://archive.ubuntu.com/ubuntu focal/universe amd64 tipa all 2:1.3-20 [2,978 kB]\n",
            "Fetched 178 MB in 3s (63.8 MB/s)\n",
            "debconf: unable to initialize frontend: Dialog\n",
            "debconf: (No usable dialog-like program is installed, so the dialog based frontend cannot be used. at /usr/share/perl5/Debconf/FrontEnd/Dialog.pm line 76, <> line 58.)\n",
            "debconf: falling back to frontend: Readline\n",
            "debconf: unable to initialize frontend: Readline\n",
            "debconf: (This frontend requires a controlling tty.)\n",
            "debconf: falling back to frontend: Teletype\n",
            "dpkg-preconfigure: unable to re-open stdin: \n",
            "Selecting previously unselected package fonts-droid-fallback.\n",
            "(Reading database ... 128215 files and directories currently installed.)\n",
            "Preparing to unpack .../00-fonts-droid-fallback_1%3a6.0.1r16-1.1_all.deb ...\n",
            "Unpacking fonts-droid-fallback (1:6.0.1r16-1.1) ...\n",
            "Selecting previously unselected package fonts-lato.\n",
            "Preparing to unpack .../01-fonts-lato_2.0-2_all.deb ...\n",
            "Unpacking fonts-lato (2.0-2) ...\n",
            "Selecting previously unselected package poppler-data.\n",
            "Preparing to unpack .../02-poppler-data_0.4.9-2_all.deb ...\n",
            "Unpacking poppler-data (0.4.9-2) ...\n",
            "Selecting previously unselected package tex-common.\n",
            "Preparing to unpack .../03-tex-common_6.13_all.deb ...\n",
            "Unpacking tex-common (6.13) ...\n",
            "Selecting previously unselected package libkpathsea6:amd64.\n",
            "Preparing to unpack .../04-libkpathsea6_2019.20190605.51237-3build2_amd64.deb ...\n",
            "Unpacking libkpathsea6:amd64 (2019.20190605.51237-3build2) ...\n",
            "Selecting previously unselected package libptexenc1:amd64.\n",
            "Preparing to unpack .../05-libptexenc1_2019.20190605.51237-3build2_amd64.deb ...\n",
            "Unpacking libptexenc1:amd64 (2019.20190605.51237-3build2) ...\n",
            "Selecting previously unselected package libsynctex2:amd64.\n",
            "Preparing to unpack .../06-libsynctex2_2019.20190605.51237-3build2_amd64.deb ...\n",
            "Unpacking libsynctex2:amd64 (2019.20190605.51237-3build2) ...\n",
            "Selecting previously unselected package libtexlua53:amd64.\n",
            "Preparing to unpack .../07-libtexlua53_2019.20190605.51237-3build2_amd64.deb ...\n",
            "Unpacking libtexlua53:amd64 (2019.20190605.51237-3build2) ...\n",
            "Selecting previously unselected package libtexluajit2:amd64.\n",
            "Preparing to unpack .../08-libtexluajit2_2019.20190605.51237-3build2_amd64.deb ...\n",
            "Unpacking libtexluajit2:amd64 (2019.20190605.51237-3build2) ...\n",
            "Selecting previously unselected package t1utils.\n",
            "Preparing to unpack .../09-t1utils_1.41-3_amd64.deb ...\n",
            "Unpacking t1utils (1.41-3) ...\n",
            "Selecting previously unselected package libteckit0:amd64.\n",
            "Preparing to unpack .../10-libteckit0_2.5.8+ds2-5ubuntu2_amd64.deb ...\n",
            "Unpacking libteckit0:amd64 (2.5.8+ds2-5ubuntu2) ...\n",
            "Selecting previously unselected package libzzip-0-13:amd64.\n",
            "Preparing to unpack .../11-libzzip-0-13_0.13.62-3.2ubuntu1_amd64.deb ...\n",
            "Unpacking libzzip-0-13:amd64 (0.13.62-3.2ubuntu1) ...\n",
            "Selecting previously unselected package texlive-binaries.\n",
            "Preparing to unpack .../12-texlive-binaries_2019.20190605.51237-3build2_amd64.deb ...\n",
            "Unpacking texlive-binaries (2019.20190605.51237-3build2) ...\n",
            "Selecting previously unselected package texlive-base.\n",
            "Preparing to unpack .../13-texlive-base_2019.20200218-1_all.deb ...\n",
            "Unpacking texlive-base (2019.20200218-1) ...\n",
            "Selecting previously unselected package fonts-lmodern.\n",
            "Preparing to unpack .../14-fonts-lmodern_2.004.5-6_all.deb ...\n",
            "Unpacking fonts-lmodern (2.004.5-6) ...\n",
            "Selecting previously unselected package texlive-latex-base.\n",
            "Preparing to unpack .../15-texlive-latex-base_2019.20200218-1_all.deb ...\n",
            "Unpacking texlive-latex-base (2019.20200218-1) ...\n",
            "Selecting previously unselected package texlive-latex-recommended.\n",
            "Preparing to unpack .../16-texlive-latex-recommended_2019.20200218-1_all.deb ...\n",
            "Unpacking texlive-latex-recommended (2019.20200218-1) ...\n",
            "Selecting previously unselected package cm-super-minimal.\n",
            "Preparing to unpack .../17-cm-super-minimal_0.3.4-15_all.deb ...\n",
            "Unpacking cm-super-minimal (0.3.4-15) ...\n",
            "Selecting previously unselected package pfb2t1c2pfb.\n",
            "Preparing to unpack .../18-pfb2t1c2pfb_0.3-11_amd64.deb ...\n",
            "Unpacking pfb2t1c2pfb (0.3-11) ...\n",
            "Selecting previously unselected package cm-super.\n",
            "Preparing to unpack .../19-cm-super_0.3.4-15_all.deb ...\n",
            "Unpacking cm-super (0.3.4-15) ...\n",
            "Selecting previously unselected package fonts-urw-base35.\n",
            "Preparing to unpack .../20-fonts-urw-base35_20170801.1-3_all.deb ...\n",
            "Unpacking fonts-urw-base35 (20170801.1-3) ...\n",
            "Selecting previously unselected package libgs9-common.\n",
            "Preparing to unpack .../21-libgs9-common_9.50~dfsg-5ubuntu4.6_all.deb ...\n",
            "Unpacking libgs9-common (9.50~dfsg-5ubuntu4.6) ...\n",
            "Selecting previously unselected package libidn11:amd64.\n",
            "Preparing to unpack .../22-libidn11_1.33-2.2ubuntu2_amd64.deb ...\n",
            "Unpacking libidn11:amd64 (1.33-2.2ubuntu2) ...\n",
            "Selecting previously unselected package libijs-0.35:amd64.\n",
            "Preparing to unpack .../23-libijs-0.35_0.35-15_amd64.deb ...\n",
            "Unpacking libijs-0.35:amd64 (0.35-15) ...\n",
            "Selecting previously unselected package libjbig2dec0:amd64.\n",
            "Preparing to unpack .../24-libjbig2dec0_0.18-1ubuntu1_amd64.deb ...\n",
            "Unpacking libjbig2dec0:amd64 (0.18-1ubuntu1) ...\n",
            "Selecting previously unselected package libgs9:amd64.\n",
            "Preparing to unpack .../25-libgs9_9.50~dfsg-5ubuntu4.6_amd64.deb ...\n",
            "Unpacking libgs9:amd64 (9.50~dfsg-5ubuntu4.6) ...\n",
            "Selecting previously unselected package ghostscript.\n",
            "Preparing to unpack .../26-ghostscript_9.50~dfsg-5ubuntu4.6_amd64.deb ...\n",
            "Unpacking ghostscript (9.50~dfsg-5ubuntu4.6) ...\n",
            "Selecting previously unselected package dvipng.\n",
            "Preparing to unpack .../27-dvipng_1.15-1.1_amd64.deb ...\n",
            "Unpacking dvipng (1.15-1.1) ...\n",
            "Selecting previously unselected package dvisvgm.\n",
            "Preparing to unpack .../28-dvisvgm_2.8.1-1build1_amd64.deb ...\n",
            "Unpacking dvisvgm (2.8.1-1build1) ...\n",
            "Selecting previously unselected package fonts-noto-mono.\n",
            "Preparing to unpack .../29-fonts-noto-mono_20200323-1build1~ubuntu20.04.1_all.deb ...\n",
            "Unpacking fonts-noto-mono (20200323-1build1~ubuntu20.04.1) ...\n",
            "Selecting previously unselected package fonts-texgyre.\n",
            "Preparing to unpack .../30-fonts-texgyre_20180621-3_all.deb ...\n",
            "Unpacking fonts-texgyre (20180621-3) ...\n",
            "Selecting previously unselected package javascript-common.\n",
            "Preparing to unpack .../31-javascript-common_11_all.deb ...\n",
            "Unpacking javascript-common (11) ...\n",
            "Selecting previously unselected package libapache-pom-java.\n",
            "Preparing to unpack .../32-libapache-pom-java_18-1_all.deb ...\n",
            "Unpacking libapache-pom-java (18-1) ...\n",
            "Selecting previously unselected package libcommons-parent-java.\n",
            "Preparing to unpack .../33-libcommons-parent-java_43-1_all.deb ...\n",
            "Unpacking libcommons-parent-java (43-1) ...\n",
            "Selecting previously unselected package libcommons-logging-java.\n",
            "Preparing to unpack .../34-libcommons-logging-java_1.2-2_all.deb ...\n",
            "Unpacking libcommons-logging-java (1.2-2) ...\n",
            "Selecting previously unselected package libjs-jquery.\n",
            "Preparing to unpack .../35-libjs-jquery_3.3.1~dfsg-3_all.deb ...\n",
            "Unpacking libjs-jquery (3.3.1~dfsg-3) ...\n",
            "Selecting previously unselected package rubygems-integration.\n",
            "Preparing to unpack .../36-rubygems-integration_1.16_all.deb ...\n",
            "Unpacking rubygems-integration (1.16) ...\n",
            "Selecting previously unselected package ruby2.7.\n",
            "Preparing to unpack .../37-ruby2.7_2.7.0-5ubuntu1.7_amd64.deb ...\n",
            "Unpacking ruby2.7 (2.7.0-5ubuntu1.7) ...\n",
            "Selecting previously unselected package ruby.\n",
            "Preparing to unpack .../38-ruby_1%3a2.7+1_amd64.deb ...\n",
            "Unpacking ruby (1:2.7+1) ...\n",
            "Selecting previously unselected package rake.\n",
            "Preparing to unpack .../39-rake_13.0.1-4_all.deb ...\n",
            "Unpacking rake (13.0.1-4) ...\n",
            "Selecting previously unselected package ruby-minitest.\n",
            "Preparing to unpack .../40-ruby-minitest_5.13.0-1_all.deb ...\n",
            "Unpacking ruby-minitest (5.13.0-1) ...\n",
            "Selecting previously unselected package ruby-net-telnet.\n",
            "Preparing to unpack .../41-ruby-net-telnet_0.1.1-2_all.deb ...\n",
            "Unpacking ruby-net-telnet (0.1.1-2) ...\n",
            "Selecting previously unselected package ruby-power-assert.\n",
            "Preparing to unpack .../42-ruby-power-assert_1.1.7-1_all.deb ...\n",
            "Unpacking ruby-power-assert (1.1.7-1) ...\n",
            "Selecting previously unselected package ruby-test-unit.\n",
            "Preparing to unpack .../43-ruby-test-unit_3.3.5-1_all.deb ...\n",
            "Unpacking ruby-test-unit (3.3.5-1) ...\n",
            "Selecting previously unselected package ruby-xmlrpc.\n",
            "Preparing to unpack .../44-ruby-xmlrpc_0.3.0-2_all.deb ...\n",
            "Unpacking ruby-xmlrpc (0.3.0-2) ...\n",
            "Selecting previously unselected package libruby2.7:amd64.\n",
            "Preparing to unpack .../45-libruby2.7_2.7.0-5ubuntu1.7_amd64.deb ...\n",
            "Unpacking libruby2.7:amd64 (2.7.0-5ubuntu1.7) ...\n",
            "Selecting previously unselected package xfonts-encodings.\n",
            "Preparing to unpack .../46-xfonts-encodings_1%3a1.0.5-0ubuntu1_all.deb ...\n",
            "Unpacking xfonts-encodings (1:1.0.5-0ubuntu1) ...\n",
            "Selecting previously unselected package xfonts-utils.\n",
            "Preparing to unpack .../47-xfonts-utils_1%3a7.7+6_amd64.deb ...\n",
            "Unpacking xfonts-utils (1:7.7+6) ...\n",
            "Selecting previously unselected package lmodern.\n",
            "Preparing to unpack .../48-lmodern_2.004.5-6_all.deb ...\n",
            "Unpacking lmodern (2.004.5-6) ...\n",
            "Selecting previously unselected package preview-latex-style.\n",
            "Preparing to unpack .../49-preview-latex-style_11.91-2ubuntu2_all.deb ...\n",
            "Unpacking preview-latex-style (11.91-2ubuntu2) ...\n",
            "Selecting previously unselected package tex-gyre.\n",
            "Preparing to unpack .../50-tex-gyre_20180621-3_all.deb ...\n",
            "Unpacking tex-gyre (20180621-3) ...\n",
            "Selecting previously unselected package texlive-fonts-recommended.\n",
            "Preparing to unpack .../51-texlive-fonts-recommended_2019.20200218-1_all.deb ...\n",
            "Unpacking texlive-fonts-recommended (2019.20200218-1) ...\n",
            "Selecting previously unselected package libfontbox-java.\n",
            "Preparing to unpack .../52-libfontbox-java_1%3a1.8.16-2_all.deb ...\n",
            "Unpacking libfontbox-java (1:1.8.16-2) ...\n",
            "Selecting previously unselected package libpdfbox-java.\n",
            "Preparing to unpack .../53-libpdfbox-java_1%3a1.8.16-2_all.deb ...\n",
            "Unpacking libpdfbox-java (1:1.8.16-2) ...\n",
            "Selecting previously unselected package texlive-pictures.\n",
            "Preparing to unpack .../54-texlive-pictures_2019.20200218-1_all.deb ...\n",
            "Unpacking texlive-pictures (2019.20200218-1) ...\n",
            "Selecting previously unselected package texlive-latex-extra.\n",
            "Preparing to unpack .../55-texlive-latex-extra_2019.202000218-1_all.deb ...\n",
            "Unpacking texlive-latex-extra (2019.202000218-1) ...\n",
            "Selecting previously unselected package texlive-plain-generic.\n",
            "Preparing to unpack .../56-texlive-plain-generic_2019.202000218-1_all.deb ...\n",
            "Unpacking texlive-plain-generic (2019.202000218-1) ...\n",
            "Selecting previously unselected package tipa.\n",
            "Preparing to unpack .../57-tipa_2%3a1.3-20_all.deb ...\n",
            "Unpacking tipa (2:1.3-20) ...\n",
            "Setting up pfb2t1c2pfb (0.3-11) ...\n",
            "Setting up javascript-common (11) ...\n",
            "Setting up fonts-lato (2.0-2) ...\n",
            "Setting up fonts-noto-mono (20200323-1build1~ubuntu20.04.1) ...\n",
            "Setting up ruby-power-assert (1.1.7-1) ...\n",
            "Setting up libtexlua53:amd64 (2019.20190605.51237-3build2) ...\n",
            "Setting up libijs-0.35:amd64 (0.35-15) ...\n",
            "Setting up libtexluajit2:amd64 (2019.20190605.51237-3build2) ...\n",
            "Setting up libfontbox-java (1:1.8.16-2) ...\n",
            "Setting up rubygems-integration (1.16) ...\n",
            "Setting up libzzip-0-13:amd64 (0.13.62-3.2ubuntu1) ...\n",
            "Setting up fonts-urw-base35 (20170801.1-3) ...\n",
            "Setting up poppler-data (0.4.9-2) ...\n",
            "Setting up ruby-minitest (5.13.0-1) ...\n",
            "Setting up tex-common (6.13) ...\n",
            "debconf: unable to initialize frontend: Dialog\n",
            "debconf: (No usable dialog-like program is installed, so the dialog based frontend cannot be used. at /usr/share/perl5/Debconf/FrontEnd/Dialog.pm line 76.)\n",
            "debconf: falling back to frontend: Readline\n",
            "update-language: texlive-base not installed and configured, doing nothing!\n",
            "Setting up ruby-test-unit (3.3.5-1) ...\n",
            "Setting up libjbig2dec0:amd64 (0.18-1ubuntu1) ...\n",
            "Setting up libidn11:amd64 (1.33-2.2ubuntu2) ...\n",
            "Setting up libteckit0:amd64 (2.5.8+ds2-5ubuntu2) ...\n",
            "Setting up libapache-pom-java (18-1) ...\n",
            "Setting up ruby-net-telnet (0.1.1-2) ...\n",
            "Setting up xfonts-encodings (1:1.0.5-0ubuntu1) ...\n",
            "Setting up t1utils (1.41-3) ...\n",
            "Setting up fonts-texgyre (20180621-3) ...\n",
            "Setting up libkpathsea6:amd64 (2019.20190605.51237-3build2) ...\n",
            "Setting up fonts-lmodern (2.004.5-6) ...\n",
            "Setting up fonts-droid-fallback (1:6.0.1r16-1.1) ...\n",
            "Setting up libjs-jquery (3.3.1~dfsg-3) ...\n",
            "Setting up ruby-xmlrpc (0.3.0-2) ...\n",
            "Setting up libsynctex2:amd64 (2019.20190605.51237-3build2) ...\n",
            "Setting up libgs9-common (9.50~dfsg-5ubuntu4.6) ...\n",
            "Setting up libpdfbox-java (1:1.8.16-2) ...\n",
            "Setting up libgs9:amd64 (9.50~dfsg-5ubuntu4.6) ...\n",
            "Setting up preview-latex-style (11.91-2ubuntu2) ...\n",
            "Setting up libcommons-parent-java (43-1) ...\n",
            "Setting up dvisvgm (2.8.1-1build1) ...\n",
            "Setting up libcommons-logging-java (1.2-2) ...\n",
            "Setting up ghostscript (9.50~dfsg-5ubuntu4.6) ...\n",
            "Setting up xfonts-utils (1:7.7+6) ...\n",
            "Setting up libptexenc1:amd64 (2019.20190605.51237-3build2) ...\n",
            "Setting up texlive-binaries (2019.20190605.51237-3build2) ...\n",
            "update-alternatives: using /usr/bin/xdvi-xaw to provide /usr/bin/xdvi.bin (xdvi.bin) in auto mode\n",
            "update-alternatives: using /usr/bin/bibtex.original to provide /usr/bin/bibtex (bibtex) in auto mode\n",
            "Setting up lmodern (2.004.5-6) ...\n",
            "Setting up texlive-base (2019.20200218-1) ...\n",
            "mktexlsr: Updating /var/lib/texmf/ls-R-TEXLIVEDIST... \n",
            "mktexlsr: Updating /var/lib/texmf/ls-R-TEXMFMAIN... \n",
            "mktexlsr: Updating /var/lib/texmf/ls-R... \n",
            "mktexlsr: Done.\n",
            "tl-paper: setting paper size for dvips to a4: /var/lib/texmf/dvips/config/config-paper.ps\n",
            "tl-paper: setting paper size for dvipdfmx to a4: /var/lib/texmf/dvipdfmx/dvipdfmx-paper.cfg\n",
            "tl-paper: setting paper size for xdvi to a4: /var/lib/texmf/xdvi/XDvi-paper\n",
            "tl-paper: setting paper size for pdftex to a4: /var/lib/texmf/tex/generic/config/pdftexconfig.tex\n",
            "debconf: unable to initialize frontend: Dialog\n",
            "debconf: (No usable dialog-like program is installed, so the dialog based frontend cannot be used. at /usr/share/perl5/Debconf/FrontEnd/Dialog.pm line 76.)\n",
            "debconf: falling back to frontend: Readline\n",
            "Setting up tex-gyre (20180621-3) ...\n",
            "Setting up dvipng (1.15-1.1) ...\n",
            "Setting up texlive-plain-generic (2019.202000218-1) ...\n",
            "Setting up texlive-latex-base (2019.20200218-1) ...\n",
            "Setting up texlive-latex-recommended (2019.20200218-1) ...\n",
            "Setting up texlive-pictures (2019.20200218-1) ...\n",
            "Setting up texlive-fonts-recommended (2019.20200218-1) ...\n",
            "Setting up tipa (2:1.3-20) ...\n",
            "Regenerating '/var/lib/texmf/fmtutil.cnf-DEBIAN'... done.\n",
            "Regenerating '/var/lib/texmf/fmtutil.cnf-TEXLIVEDIST'... done.\n",
            "update-fmtutil has updated the following file(s):\n",
            "\t/var/lib/texmf/fmtutil.cnf-DEBIAN\n",
            "\t/var/lib/texmf/fmtutil.cnf-TEXLIVEDIST\n",
            "If you want to activate the changes in the above file(s),\n",
            "you should run fmtutil-sys or fmtutil.\n",
            "Setting up cm-super-minimal (0.3.4-15) ...\n",
            "Setting up texlive-latex-extra (2019.202000218-1) ...\n",
            "Setting up cm-super (0.3.4-15) ...\n",
            "Creating fonts. This may take some time... done.\n",
            "Setting up rake (13.0.1-4) ...\n",
            "Setting up libruby2.7:amd64 (2.7.0-5ubuntu1.7) ...\n",
            "Setting up ruby2.7 (2.7.0-5ubuntu1.7) ...\n",
            "Setting up ruby (1:2.7+1) ...\n",
            "Processing triggers for fontconfig (2.13.1-2ubuntu3) ...\n",
            "Processing triggers for mime-support (3.64ubuntu1) ...\n",
            "Processing triggers for libc-bin (2.31-0ubuntu9.9) ...\n",
            "Processing triggers for man-db (2.9.1-1) ...\n",
            "Processing triggers for tex-common (6.13) ...\n",
            "debconf: unable to initialize frontend: Dialog\n",
            "debconf: (No usable dialog-like program is installed, so the dialog based frontend cannot be used. at /usr/share/perl5/Debconf/FrontEnd/Dialog.pm line 76.)\n",
            "debconf: falling back to frontend: Readline\n",
            "Running updmap-sys. This may take some time... done.\n",
            "Running mktexlsr /var/lib/texmf ... done.\n",
            "Building format(s) --all.\n",
            "\tThis may take some time... done.\n"
          ]
        }
      ]
    },
    {
      "cell_type": "code",
      "source": [
        "%env FIG_DIR = latexed\n",
        "%env LATEXIFY=1"
      ],
      "metadata": {
        "colab": {
          "base_uri": "https://localhost:8080/"
        },
        "id": "u9tV5tLEzahn",
        "outputId": "b3496dc5-3e49-41f6-8492-4456701c0ef5"
      },
      "execution_count": 42,
      "outputs": [
        {
          "output_type": "stream",
          "name": "stdout",
          "text": [
            "env: FIG_DIR=latexed\n",
            "env: LATEXIFY=1\n"
          ]
        }
      ]
    },
    {
      "cell_type": "code",
      "source": [
        "latexify(fig_width = 6, fig_height = 4)"
      ],
      "metadata": {
        "id": "UFTzV72uzbKa"
      },
      "execution_count": 43,
      "outputs": []
    },
    {
      "cell_type": "code",
      "source": [
        "fev_results =  df[(df['task']=='FEV1')]\n",
        "fvc_results =  df[(df['task']=='FVC')]\n",
        "pef_results =  df[(df['task']=='PEF')]"
      ],
      "metadata": {
        "id": "k8RCLfvR0Nc8"
      },
      "execution_count": 44,
      "outputs": []
    },
    {
      "cell_type": "code",
      "source": [
        "fig = plt.figure()\n",
        "ax = fig.gca()\n",
        "legend_labels = ['ST-SO RF','ST-SO Committee','MT-SO RF','MT-SO Committee','MTMO RF']\n",
        "colors = [\"#f44336\",\"#9c27b0\",\"#3f51b5\",\"#2196f3\",\"#4caf50\"]\n",
        "\n",
        "# Define the data\n",
        "labels = ['FEV1','FVC','PEF']\n",
        "data = [fev_results['mape'].tolist(),fvc_results['mape'].tolist(),pef_results['mape'].tolist()]\n",
        "bar_width = 0.15\n",
        "x = np.arange(len(labels))\n",
        "\n",
        "for m,i in enumerate(zip(legend_labels,colors)):\n",
        "    rects = ax.bar(x + m*bar_width, [d[m] for d in data], bar_width, label=i[0],color=i[1])\n",
        "\n",
        "\n",
        "for bar in ax.patches:\n",
        "    cy = bar.get_y() + bar.get_height() + 0.25\n",
        "    cx = bar.get_x() + bar.get_width() / 2\n",
        "    ax.text(\n",
        "        cx,\n",
        "        cy,\n",
        "        f\"{bar.get_height():.2f}\",\n",
        "        rotation=0,\n",
        "        color=\"black\",\n",
        "        fontsize=8,\n",
        "        ha=\"center\",\n",
        "        va=\"center\",\n",
        "        zorder=2,\n",
        "        weight=\"bold\",\n",
        "    )\n",
        "sns.despine()\n",
        "# Add labels and title\n",
        "\n",
        "x = np.arange(3)\n",
        "plt.xlabel('Tasks')\n",
        "plt.ylabel('MAPE')\n",
        "plt.xticks(x + 0.3, ['FEV1','FVC','PEF'])\n",
        "plt.legend(ncol=3)\n",
        "\n",
        "plt.ylim(0,9)\n",
        "savefig(\"loocv_results.pdf\")\n",
        "plt.show()"
      ],
      "metadata": {
        "colab": {
          "base_uri": "https://localhost:8080/",
          "height": 412
        },
        "id": "1sv0lL5K0cfC",
        "outputId": "d93e5082-edc3-4d21-880d-2900d52aa95a"
      },
      "execution_count": 45,
      "outputs": [
        {
          "output_type": "stream",
          "name": "stderr",
          "text": [
            "/usr/local/lib/python3.8/dist-packages/probml_utils/plotting.py:70: UserWarning: renaming latexed/loocv_results.pdf to latexed/loocv_results_latexified.pdf because LATEXIFY is True\n",
            "  warnings.warn(\n"
          ]
        },
        {
          "output_type": "stream",
          "name": "stdout",
          "text": [
            "saving image to latexed/loocv_results_latexified.pdf\n",
            "Figure size: [6. 4.]\n"
          ]
        },
        {
          "output_type": "display_data",
          "data": {
            "text/plain": [
              "<Figure size 432x288 with 1 Axes>"
            ],
            "image/png": "[encoded data removed]"
          },
          "metadata": {
            "needs_background": "light"
          }
        }
      ]
    }
  ]
}